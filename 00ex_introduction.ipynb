{
 "cells": [
  {
   "cell_type": "markdown",
   "metadata": {},
   "source": [
    "**1. The MickeyMouse problem**\n",
    "\n",
    "a) Write a program that prints the numbers from 1 to 100. But for multiples of three print Mickey instead of the number and for the multiples of five print Mouse. For numbers which are multiples of both three and five print MickeyMouse\n",
    "\n",
    "b) Put the result in a tuple and substitute Mickey with Donald and Mouse with Duck"
   ]
  },
  {
   "cell_type": "code",
   "execution_count": 1,
   "metadata": {},
   "outputs": [
    {
     "name": "stdout",
     "output_type": "stream",
     "text": [
      "1\n",
      "2\n",
      "Mickey\n",
      "4\n",
      "Mouse\n",
      "Mickey\n",
      "7\n",
      "8\n",
      "Mickey\n",
      "Mouse\n",
      "11\n",
      "Mickey\n",
      "13\n",
      "14\n",
      "MickeyMouse\n",
      "16\n",
      "17\n",
      "Mickey\n",
      "19\n",
      "Mouse\n",
      "Mickey\n",
      "22\n",
      "23\n",
      "Mickey\n",
      "Mouse\n",
      "26\n",
      "Mickey\n",
      "28\n",
      "29\n",
      "MickeyMouse\n",
      "31\n",
      "32\n",
      "Mickey\n",
      "34\n",
      "Mouse\n",
      "Mickey\n",
      "37\n",
      "38\n",
      "Mickey\n",
      "Mouse\n",
      "41\n",
      "Mickey\n",
      "43\n",
      "44\n",
      "MickeyMouse\n",
      "46\n",
      "47\n",
      "Mickey\n",
      "49\n",
      "Mouse\n",
      "Mickey\n",
      "52\n",
      "53\n",
      "Mickey\n",
      "Mouse\n",
      "56\n",
      "Mickey\n",
      "58\n",
      "59\n",
      "MickeyMouse\n",
      "61\n",
      "62\n",
      "Mickey\n",
      "64\n",
      "Mouse\n",
      "Mickey\n",
      "67\n",
      "68\n",
      "Mickey\n",
      "Mouse\n",
      "71\n",
      "Mickey\n",
      "73\n",
      "74\n",
      "MickeyMouse\n",
      "76\n",
      "77\n",
      "Mickey\n",
      "79\n",
      "Mouse\n",
      "Mickey\n",
      "82\n",
      "83\n",
      "Mickey\n",
      "Mouse\n",
      "86\n",
      "Mickey\n",
      "88\n",
      "89\n",
      "MickeyMouse\n",
      "91\n",
      "92\n",
      "Mickey\n",
      "94\n",
      "Mouse\n",
      "Mickey\n",
      "97\n",
      "98\n",
      "Mickey\n",
      "Mouse\n",
      "<class 'tuple'>\n",
      "(1, 2, 'Donald', 4, 'Duck', 'Donald', 7, 8, 'Donald', 'Duck', 11, 'Donald', 13, 14, 'DonaldDuck', 16, 17, 'Donald', 19, 'Duck', 'Donald', 22, 23, 'Donald', 'Duck', 26, 'Donald', 28, 29, 'DonaldDuck', 31, 32, 'Donald', 34, 'Duck', 'Donald', 37, 38, 'Donald', 'Duck', 41, 'Donald', 43, 44, 'DonaldDuck', 46, 47, 'Donald', 49, 'Duck', 'Donald', 52, 53, 'Donald', 'Duck', 56, 'Donald', 58, 59, 'DonaldDuck', 61, 62, 'Donald', 64, 'Duck', 'Donald', 67, 68, 'Donald', 'Duck', 71, 'Donald', 73, 74, 'DonaldDuck', 76, 77, 'Donald', 79, 'Duck', 'Donald', 82, 83, 'Donald', 'Duck', 86, 'Donald', 88, 89, 'DonaldDuck', 91, 92, 'Donald', 94, 'Duck', 'Donald', 97, 98, 'Donald', 'Duck')\n"
     ]
    }
   ],
   "source": [
    "a=1\n",
    "a_tuple = ()\n",
    "while a<101:\n",
    "    if a%3==0 and a%5!=0:\n",
    "        print ('Mickey')\n",
    "        a_tuple = a_tuple + ('Donald',)\n",
    "    if a%5==0 and a%3!=0:\n",
    "        print ('Mouse')\n",
    "        a_tuple = a_tuple + ('Duck',)\n",
    "    if a%5==0 and a%3==0:\n",
    "        print ('MickeyMouse')\n",
    "        a_tuple = a_tuple + ('DonaldDuck',)\n",
    "    if a%5!=0 and a%3!=0:\n",
    "        print (a)\n",
    "        a_tuple = a_tuple + (a,)\n",
    "    a = a+1\n",
    "\n",
    "print (type(a_tuple))\n",
    "print (a_tuple)"
   ]
  },
  {
   "cell_type": "markdown",
   "metadata": {},
   "source": [
    "**2\\. The swap function**\n",
    "\n",
    "Write a function that swap the values of two input variables x and y (whatever the type). Try to do that also without a temporary variable"
   ]
  },
  {
   "cell_type": "code",
   "execution_count": 2,
   "metadata": {},
   "outputs": [
    {
     "data": {
      "text/plain": [
       "(2, 1)"
      ]
     },
     "execution_count": 2,
     "metadata": {},
     "output_type": "execute_result"
    }
   ],
   "source": [
    "def temp (x,y):\n",
    "    a=y\n",
    "    b=x\n",
    "    return (a,b)\n",
    "\n",
    "temp (1,2)"
   ]
  },
  {
   "cell_type": "code",
   "execution_count": 3,
   "metadata": {},
   "outputs": [
    {
     "data": {
      "text/plain": [
       "('2', '1')"
      ]
     },
     "execution_count": 3,
     "metadata": {},
     "output_type": "execute_result"
    }
   ],
   "source": [
    "def notemp (c,d):\n",
    "    return (d,c)\n",
    "\n",
    "notemp ('1','2')"
   ]
  },
  {
   "cell_type": "markdown",
   "metadata": {},
   "source": [
    "**3\\. Computing the distance**\n",
    "\n",
    "Write a function that calculates and returns the euclidean distance between two points *u* and *v*, where *u* and *v* are both 2-tuples *(x,y)*. For example, if *u=(3,0)* and *v=(0,4)*, the function should return 5"
   ]
  },
  {
   "cell_type": "code",
   "execution_count": 4,
   "metadata": {},
   "outputs": [
    {
     "data": {
      "text/plain": [
       "5.0"
      ]
     },
     "execution_count": 4,
     "metadata": {},
     "output_type": "execute_result"
    }
   ],
   "source": [
    "import numpy as np\n",
    "def eu_dist (u,v):\n",
    "    x1 = u[0]\n",
    "    y1 = u[1]\n",
    "    x2 = v[0]\n",
    "    y2 = v[1]\n",
    "    distance = np.sqrt((x1-x2)**2 + (y1-y2)**2)\n",
    "    return distance\n",
    "\n",
    "eu_dist ((3,0),(0,4))"
   ]
  },
  {
   "cell_type": "markdown",
   "metadata": {},
   "source": [
    "**4\\. Counting letters**\n",
    "\n",
    "Write a program to calculate the number of times each character occurs in a given string *s*. Ignore differneces in capitalization"
   ]
  },
  {
   "cell_type": "code",
   "execution_count": 39,
   "metadata": {
    "ExecuteTime": {
     "end_time": "2021-10-03T14:38:44.640719Z",
     "start_time": "2021-10-03T14:38:44.629746Z"
    }
   },
   "outputs": [
    {
     "name": "stdout",
     "output_type": "stream",
     "text": [
      "The character   appears 40 times\n",
      "The character . appears 2 times\n",
      "The character 0 appears 2 times\n",
      "The character 1 appears 2 times\n",
      "The character a appears 7 times\n",
      "The character b appears 5 times\n",
      "The character c appears 3 times\n",
      "The character d appears 3 times\n",
      "The character e appears 22 times\n",
      "The character f appears 10 times\n",
      "The character g appears 1 times\n",
      "The character h appears 9 times\n",
      "The character i appears 14 times\n",
      "The character k appears 2 times\n",
      "The character l appears 6 times\n",
      "The character m appears 12 times\n",
      "The character n appears 10 times\n",
      "The character o appears 13 times\n",
      "The character p appears 8 times\n",
      "The character r appears 17 times\n",
      "The character s appears 9 times\n",
      "The character t appears 19 times\n",
      "The character u appears 9 times\n",
      "The character v appears 2 times\n",
      "The character w appears 2 times\n",
      "The character y appears 2 times\n"
     ]
    }
   ],
   "source": [
    "s=\"Write a program that prints the numbers from 1 to 100. \\\n",
    "But for multiples of three print Mickey instead of the number and for the multiples of five print Mouse. \\\n",
    "For numbers which are multiples of both three and five print MickeyMouse\"\n",
    "\n",
    "a_lower = str.lower (s)\n",
    "\n",
    "#def count (b, c=a_lower):\n",
    "#    x=0\n",
    "#    for i in range (len(c)):\n",
    "#        if c[i]==b:\n",
    "#            x = x+1\n",
    "#    return x\n",
    "#\n",
    "#count ('0')\n",
    "\n",
    "sort = sorted(a_lower) + ['null'] #add null at the end to count the last character\n",
    "prev = 0\n",
    "for i in range(len(sort)-1):\n",
    "    if sort [i+1] != sort [i]:\n",
    "        print (f'The character {sort[i]} appears {i-prev} times')\n",
    "        prev = i"
   ]
  },
  {
   "cell_type": "markdown",
   "metadata": {},
   "source": [
    "**5\\. Isolating the unique**\n",
    "\n",
    "Write a function that determines and count the unique numbers in the list *l*"
   ]
  },
  {
   "cell_type": "code",
   "execution_count": 1,
   "metadata": {
    "ExecuteTime": {
     "end_time": "2021-10-12T13:09:21.062733Z",
     "start_time": "2021-10-12T13:09:21.054924Z"
    }
   },
   "outputs": [],
   "source": [
    "l = [36, 45, 58, 3, 74, 96, 64, 45, 31, 10, 24, 19, 33, 86, 99, 18, 63, 70, 85,\n",
    " 85, 63, 47, 56, 42, 70, 84, 88, 55, 20, 54, 8, 56, 51, 79, 81, 57, 37, 91,\n",
    " 1, 84, 84, 36, 66, 9, 89, 50, 42, 91, 50, 95, 90, 98, 39, 16, 82, 31, 92, 41,\n",
    " 45, 30, 66, 70, 34, 85, 94, 5, 3, 36, 72, 91, 84, 34, 87, 75, 53, 51, 20, 89, 51, 20]"
   ]
  },
  {
   "cell_type": "code",
   "execution_count": 2,
   "metadata": {
    "ExecuteTime": {
     "end_time": "2021-10-12T13:09:21.472598Z",
     "start_time": "2021-10-12T13:09:21.462802Z"
    }
   },
   "outputs": [],
   "source": [
    "def unique_counter (list_to_count):\n",
    "    unique = []\n",
    "    list_to_count.sort()\n",
    "    for i in range (1,len(list_to_count)+1):\n",
    "        for k,j in enumerate(list_to_count):\n",
    "            if list_to_count.count (j) == i and j != list_to_count[k-1]:\n",
    "                unique.append (f'Number {j}, is present {i} times in l')\n",
    "    return unique"
   ]
  },
  {
   "cell_type": "code",
   "execution_count": 3,
   "metadata": {
    "ExecuteTime": {
     "end_time": "2021-10-12T13:09:21.972412Z",
     "start_time": "2021-10-12T13:09:21.939263Z"
    }
   },
   "outputs": [
    {
     "data": {
      "text/plain": [
       "['Number 1, is present 1 times in l',\n",
       " 'Number 5, is present 1 times in l',\n",
       " 'Number 8, is present 1 times in l',\n",
       " 'Number 9, is present 1 times in l',\n",
       " 'Number 10, is present 1 times in l',\n",
       " 'Number 16, is present 1 times in l',\n",
       " 'Number 18, is present 1 times in l',\n",
       " 'Number 19, is present 1 times in l',\n",
       " 'Number 24, is present 1 times in l',\n",
       " 'Number 30, is present 1 times in l',\n",
       " 'Number 33, is present 1 times in l',\n",
       " 'Number 37, is present 1 times in l',\n",
       " 'Number 39, is present 1 times in l',\n",
       " 'Number 41, is present 1 times in l',\n",
       " 'Number 47, is present 1 times in l',\n",
       " 'Number 53, is present 1 times in l',\n",
       " 'Number 54, is present 1 times in l',\n",
       " 'Number 55, is present 1 times in l',\n",
       " 'Number 57, is present 1 times in l',\n",
       " 'Number 58, is present 1 times in l',\n",
       " 'Number 64, is present 1 times in l',\n",
       " 'Number 72, is present 1 times in l',\n",
       " 'Number 74, is present 1 times in l',\n",
       " 'Number 75, is present 1 times in l',\n",
       " 'Number 79, is present 1 times in l',\n",
       " 'Number 81, is present 1 times in l',\n",
       " 'Number 82, is present 1 times in l',\n",
       " 'Number 86, is present 1 times in l',\n",
       " 'Number 87, is present 1 times in l',\n",
       " 'Number 88, is present 1 times in l',\n",
       " 'Number 90, is present 1 times in l',\n",
       " 'Number 92, is present 1 times in l',\n",
       " 'Number 94, is present 1 times in l',\n",
       " 'Number 95, is present 1 times in l',\n",
       " 'Number 96, is present 1 times in l',\n",
       " 'Number 98, is present 1 times in l',\n",
       " 'Number 99, is present 1 times in l',\n",
       " 'Number 3, is present 2 times in l',\n",
       " 'Number 31, is present 2 times in l',\n",
       " 'Number 34, is present 2 times in l',\n",
       " 'Number 42, is present 2 times in l',\n",
       " 'Number 50, is present 2 times in l',\n",
       " 'Number 56, is present 2 times in l',\n",
       " 'Number 63, is present 2 times in l',\n",
       " 'Number 66, is present 2 times in l',\n",
       " 'Number 89, is present 2 times in l',\n",
       " 'Number 20, is present 3 times in l',\n",
       " 'Number 36, is present 3 times in l',\n",
       " 'Number 45, is present 3 times in l',\n",
       " 'Number 51, is present 3 times in l',\n",
       " 'Number 70, is present 3 times in l',\n",
       " 'Number 85, is present 3 times in l',\n",
       " 'Number 91, is present 3 times in l',\n",
       " 'Number 84, is present 4 times in l']"
      ]
     },
     "execution_count": 3,
     "metadata": {},
     "output_type": "execute_result"
    }
   ],
   "source": [
    "unique_counter (l)"
   ]
  },
  {
   "cell_type": "markdown",
   "metadata": {},
   "source": [
    "**6\\. Combination of functions**\n",
    "\n",
    "Write two functions - one that returns the square of a number, and one that returns the cube. Now write a third function that returns the number raised to the 6th power using the two previous functions."
   ]
  },
  {
   "cell_type": "code",
   "execution_count": 15,
   "metadata": {},
   "outputs": [
    {
     "name": "stdout",
     "output_type": "stream",
     "text": [
      "9\n",
      "64\n",
      "15625\n"
     ]
    }
   ],
   "source": [
    "def square (x):\n",
    "    return x**2\n",
    "\n",
    "def cube (x):\n",
    "    return x**3\n",
    "\n",
    "def six (x):\n",
    "    fun = square (cube (x))\n",
    "    return fun\n",
    "\n",
    "print (square(3))\n",
    "print (cube(4))\n",
    "print (six(5))"
   ]
  },
  {
   "cell_type": "markdown",
   "metadata": {},
   "source": [
    "**7\\. Cubes**\n",
    "\n",
    "Create a list of the cubes of x for x in *[0, 10]* using:\n",
    "\n",
    "a) a for loop\n",
    "\n",
    "b) a list comprehension"
   ]
  },
  {
   "cell_type": "code",
   "execution_count": 46,
   "metadata": {
    "ExecuteTime": {
     "end_time": "2021-10-03T14:40:21.856830Z",
     "start_time": "2021-10-03T14:40:21.837917Z"
    }
   },
   "outputs": [
    {
     "name": "stdout",
     "output_type": "stream",
     "text": [
      "[0, 1, 8, 27, 64, 125, 216, 343, 512, 729, 1000]\n"
     ]
    }
   ],
   "source": [
    "x=0\n",
    "cube_loop = []\n",
    "while x<11:\n",
    "    a = x**3\n",
    "    cube_loop.append (a)\n",
    "    x = x+1\n",
    "print (cube_loop)"
   ]
  },
  {
   "cell_type": "code",
   "execution_count": 47,
   "metadata": {
    "ExecuteTime": {
     "end_time": "2021-10-03T14:40:22.137773Z",
     "start_time": "2021-10-03T14:40:22.124808Z"
    }
   },
   "outputs": [
    {
     "name": "stdout",
     "output_type": "stream",
     "text": [
      "[0, 1, 8, 27, 64, 125, 216, 343, 512, 729, 1000]\n"
     ]
    }
   ],
   "source": [
    "cube_com = []\n",
    "for i in range (0,11):\n",
    "    b = i**3\n",
    "    cube_com.append (b)\n",
    "print (cube_com)"
   ]
  },
  {
   "cell_type": "markdown",
   "metadata": {},
   "source": [
    "**8\\. Nested list comprehension**\n",
    "\n",
    "A Pythagorean triple is an integer solution to the Pythagorean theorem $a^2+b^2=c^2$. The first Pythagorean triple is (3,4,5). Find and put in a tuple all unique Pythagorean triples for the positive integers a, b and c less than 100."
   ]
  },
  {
   "cell_type": "code",
   "execution_count": 49,
   "metadata": {
    "scrolled": false
   },
   "outputs": [
    {
     "name": "stdout",
     "output_type": "stream",
     "text": [
      "[(3, 4, 5), (5, 12, 13), (6, 8, 10), (7, 24, 25), (8, 15, 17), (9, 12, 15), (9, 40, 41), (10, 24, 26), (11, 60, 61), (12, 16, 20), (12, 35, 37), (13, 84, 85), (14, 48, 50), (15, 20, 25), (15, 36, 39), (16, 30, 34), (16, 63, 65), (18, 24, 30), (18, 80, 82), (20, 21, 29), (20, 48, 52), (21, 28, 35), (21, 72, 75), (24, 32, 40), (24, 45, 51), (24, 70, 74), (25, 60, 65), (27, 36, 45), (28, 45, 53), (28, 96, 100), (30, 40, 50), (30, 72, 78), (32, 60, 68), (33, 44, 55), (33, 56, 65), (35, 84, 91), (36, 48, 60), (36, 77, 85), (39, 52, 65), (39, 80, 89), (40, 42, 58), (40, 75, 85), (42, 56, 70), (45, 60, 75), (48, 55, 73), (48, 64, 80), (51, 68, 85), (54, 72, 90), (57, 76, 95), (60, 63, 87), (60, 80, 100), (65, 72, 97)]\n"
     ]
    }
   ],
   "source": [
    "Py = []\n",
    "b=1\n",
    "for a in range (1,101):\n",
    "    for i in range (1,101):\n",
    "        b=a+i\n",
    "        c = np.sqrt(a**2 + b**2)\n",
    "        C = int (c)\n",
    "        if a%2==0 or b%2==0:\n",
    "            if c == C and c<101:\n",
    "                terna = (a,b,C)\n",
    "                Py.append(terna)\n",
    "#                print ('Terna pitagorica', a,b,C)\n",
    "print (Py)"
   ]
  },
  {
   "cell_type": "markdown",
   "metadata": {},
   "source": [
    "**9\\. Normalization**\n",
    "\n",
    "Write a function that takes a tuple of numbers and returns it with the entries normalized to one"
   ]
  },
  {
   "cell_type": "code",
   "execution_count": 18,
   "metadata": {},
   "outputs": [
    {
     "name": "stdout",
     "output_type": "stream",
     "text": [
      "The normalized tuple is (0.2672612419124244, 0.5345224838248488, 0.8017837257372732)\n"
     ]
    }
   ],
   "source": [
    "import numpy as np\n",
    "list = []\n",
    "def norm (a):\n",
    "    for i in range (len(a)):\n",
    "        x = a[i]**2\n",
    "        list.append (x)\n",
    "    A = np.sqrt(np.sum(list))\n",
    "    norm_a = a/A\n",
    "    norm_tuple = tuple (norm_a)\n",
    "    print ('The normalized tuple is', norm_tuple)\n",
    "\n",
    "a = (2,4,6)\n",
    "norm (a)"
   ]
  },
  {
   "cell_type": "code",
   "execution_count": null,
   "metadata": {},
   "outputs": [],
   "source": []
  }
 ],
 "metadata": {
  "kernelspec": {
   "display_name": "Python 3",
   "language": "python",
   "name": "python3"
  },
  "language_info": {
   "codemirror_mode": {
    "name": "ipython",
    "version": 3
   },
   "file_extension": ".py",
   "mimetype": "text/x-python",
   "name": "python",
   "nbconvert_exporter": "python",
   "pygments_lexer": "ipython3",
   "version": "3.7.10"
  },
  "toc": {
   "base_numbering": 1,
   "nav_menu": {},
   "number_sections": true,
   "sideBar": true,
   "skip_h1_title": false,
   "title_cell": "Table of Contents",
   "title_sidebar": "Contents",
   "toc_cell": false,
   "toc_position": {},
   "toc_section_display": true,
   "toc_window_display": false
  },
  "varInspector": {
   "cols": {
    "lenName": 16,
    "lenType": 16,
    "lenVar": 40
   },
   "kernels_config": {
    "python": {
     "delete_cmd_postfix": "",
     "delete_cmd_prefix": "del ",
     "library": "var_list.py",
     "varRefreshCmd": "print(var_dic_list())"
    },
    "r": {
     "delete_cmd_postfix": ") ",
     "delete_cmd_prefix": "rm(",
     "library": "var_list.r",
     "varRefreshCmd": "cat(var_dic_list()) "
    }
   },
   "types_to_exclude": [
    "module",
    "function",
    "builtin_function_or_method",
    "instance",
    "_Feature"
   ],
   "window_display": false
  }
 },
 "nbformat": 4,
 "nbformat_minor": 2
}
