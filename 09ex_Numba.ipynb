{
 "cells": [
  {
   "cell_type": "code",
   "execution_count": 12,
   "metadata": {
    "ExecuteTime": {
     "end_time": "2021-10-06T17:04:21.462985Z",
     "start_time": "2021-10-06T17:04:21.451016Z"
    }
   },
   "outputs": [],
   "source": [
    "import numpy as np\n",
    "import math\n",
    "import matplotlib.pyplot as plt\n",
    "import os\n",
    "os.environ[\"NUMBA_ENABLE_CUDASIM\"] = \"1\"\n",
    "from numba import jit, int32, int64, float64, njit, vectorize, cuda"
   ]
  },
  {
   "cell_type": "markdown",
   "metadata": {},
   "source": [
    "## Exercise 1\n",
    "\n",
    "Create a vectorized version of log and exp math function for 1D array A = [2, 5, 10, 3, 8]\n",
    "\n",
    "Results should be: \n",
    "+ [0.6931472 1.609438  2.3025851 1.0986123 2.0794415]\n",
    "+ [7.3890562e+00 1.4841316e+02 2.2026465e+04 2.0085537e+01 2.9809580e+03]"
   ]
  },
  {
   "cell_type": "code",
   "execution_count": 4,
   "metadata": {
    "ExecuteTime": {
     "end_time": "2021-10-06T17:00:19.648479Z",
     "start_time": "2021-10-06T17:00:15.524790Z"
    }
   },
   "outputs": [
    {
     "name": "stdout",
     "output_type": "stream",
     "text": [
      "2.55 µs ± 147 ns per loop (mean ± std. dev. of 7 runs, 100000 loops each)\n",
      "2.41 µs ± 37.3 ns per loop (mean ± std. dev. of 7 runs, 100000 loops each)\n",
      "[0.69314718 1.60943791 2.30258509 1.09861229 2.07944154]\n"
     ]
    }
   ],
   "source": [
    "@vectorize([float64(float64)], target='cpu', fastmath=True) #cpu for me is faster\n",
    "def vec_log(x):\n",
    "    c =  np.log(x)\n",
    "    return c\n",
    "\n",
    "A=[2,5,10,3,8]\n",
    "\n",
    "%timeit np.log(A)\n",
    "%timeit vec_log(A)\n",
    "\n",
    "print (vec_log(A))"
   ]
  },
  {
   "cell_type": "code",
   "execution_count": 5,
   "metadata": {
    "ExecuteTime": {
     "end_time": "2021-10-06T17:00:23.806978Z",
     "start_time": "2021-10-06T17:00:19.666727Z"
    }
   },
   "outputs": [
    {
     "name": "stdout",
     "output_type": "stream",
     "text": [
      "2.56 µs ± 57.3 ns per loop (mean ± std. dev. of 7 runs, 100000 loops each)\n",
      "2.43 µs ± 48.6 ns per loop (mean ± std. dev. of 7 runs, 100000 loops each)\n",
      "[7.38905610e+00 1.48413159e+02 2.20264658e+04 2.00855369e+01\n",
      " 2.98095799e+03]\n"
     ]
    }
   ],
   "source": [
    "@vectorize([float64(float64)], target='cpu', fastmath=True) #cpu for me is faster\n",
    "def vec_exp(x):\n",
    "    c =  np.exp(x)\n",
    "    return c\n",
    "\n",
    "A=[2,5,10,3,8]\n",
    "\n",
    "%timeit np.exp(A)\n",
    "%timeit vec_exp(A)\n",
    "\n",
    "print (vec_exp(A))"
   ]
  },
  {
   "cell_type": "markdown",
   "metadata": {},
   "source": [
    "## Exerice 2\n",
    "Compute the value of a Gaussian probability density function at $x$ with $mean = 1$, $\\sigma = 1$, lower and upper bound in $(-3, 3)$ and $size = 100000$"
   ]
  },
  {
   "cell_type": "code",
   "execution_count": 6,
   "metadata": {
    "ExecuteTime": {
     "end_time": "2021-10-06T17:00:49.180021Z",
     "start_time": "2021-10-06T17:00:41.417314Z"
    }
   },
   "outputs": [
    {
     "data": {
      "image/png": "[encoded data removed]",
      "text/plain": [
       "<Figure size 432x288 with 1 Axes>"
      ]
     },
     "metadata": {
      "needs_background": "light"
     },
     "output_type": "display_data"
    },
    {
     "name": "stdout",
     "output_type": "stream",
     "text": [
      "934 µs ± 33 µs per loop (mean ± std. dev. of 7 runs, 1000 loops each)\n"
     ]
    }
   ],
   "source": [
    "N = 100000\n",
    "mean = 1\n",
    "sig = 1\n",
    "x=np.linspace(-3,3,N)\n",
    "values =[]\n",
    "\n",
    "def gauss (x, mean, sig):\n",
    "    xx = np.exp(-(((x-mean)/sig)**2/2))/(sig*np.sqrt(2*np.pi))\n",
    "    return xx\n",
    "\n",
    "values = gauss(x,mean,sig)\n",
    "plt.plot (x, values)\n",
    "plt.show ()\n",
    "\n",
    "%timeit gauss(x,mean,sig)"
   ]
  },
  {
   "cell_type": "code",
   "execution_count": 14,
   "metadata": {
    "ExecuteTime": {
     "end_time": "2021-10-06T17:04:36.762455Z",
     "start_time": "2021-10-06T17:04:33.911132Z"
    }
   },
   "outputs": [
    {
     "data": {
      "image/png": "[encoded data removed]",
      "text/plain": [
       "<Figure size 432x288 with 1 Axes>"
      ]
     },
     "metadata": {
      "needs_background": "light"
     },
     "output_type": "display_data"
    },
    {
     "name": "stdout",
     "output_type": "stream",
     "text": [
      "315 µs ± 10.8 µs per loop (mean ± std. dev. of 7 runs, 1000 loops each)\n"
     ]
    }
   ],
   "source": [
    "N = 100000\n",
    "mean = 1\n",
    "sig = 1\n",
    "x=np.linspace(-3,3,N)\n",
    "values =[]\n",
    "\n",
    "@jit\n",
    "def gauss_jit (x, mean, sig):\n",
    "    xx = np.exp(-(((x-mean)/sig)**2/2))/(sig*np.sqrt(2*np.pi))\n",
    "    return xx\n",
    "\n",
    "values = gauss_jit(x,mean,sig)\n",
    "plt.plot (x, values)\n",
    "plt.show ()\n",
    "\n",
    "%timeit gauss_jit(x,mean,sig)"
   ]
  },
  {
   "cell_type": "markdown",
   "metadata": {},
   "source": [
    "## Exercise 3\n",
    "\n",
    "Create a \"zero suppression\" function. A common operation when working with waveforms is to force all samples values below a certain absolute magnitude to be zero, as a way to eliminate low amplitude noise. \n",
    "Plot the data before and after the application of the zero_suppress function.\n",
    "\n",
    "$thresold = 15$"
   ]
  },
  {
   "cell_type": "code",
   "execution_count": 20,
   "metadata": {
    "ExecuteTime": {
     "end_time": "2021-10-06T17:07:11.611397Z",
     "start_time": "2021-10-06T17:07:11.354290Z"
    }
   },
   "outputs": [],
   "source": [
    "n = 100000\n",
    "noise = np.random.normal(size=n) * 3\n",
    "pulses = np.maximum(np.sin(np.arange(n) / (n / 23)) - 0.3, 0.0)\n",
    "data = ((pulses * 300) + noise).astype(np.int16)\n",
    "data_new=np.zeros_like(data)\n",
    "data_jit=np.zeros_like(data)\n",
    "\n",
    "def zeros (empty, limit):\n",
    "    empty [:]= np.where(data>limit, data, 0)\n",
    "    \n",
    "zeros (data_new, 15)\n",
    "\n",
    "@jit\n",
    "def zeros_jit (empty, limit):\n",
    "    empty [:]= np.where(data>limit, data, 0)\n",
    "    \n",
    "zeros_jit(data_jit, 15)\n",
    "    "
   ]
  },
  {
   "cell_type": "code",
   "execution_count": 21,
   "metadata": {
    "ExecuteTime": {
     "end_time": "2021-10-06T17:07:32.735690Z",
     "start_time": "2021-10-06T17:07:14.317954Z"
    }
   },
   "outputs": [
    {
     "name": "stdout",
     "output_type": "stream",
     "text": [
      "229 µs ± 13.1 µs per loop (mean ± std. dev. of 7 runs, 1000 loops each)\n",
      "205 µs ± 17.1 µs per loop (mean ± std. dev. of 7 runs, 10000 loops each)\n"
     ]
    }
   ],
   "source": [
    "%timeit zeros (data_new, 15)\n",
    "%timeit zeros_jit(data_jit, 15)"
   ]
  },
  {
   "cell_type": "code",
   "execution_count": 22,
   "metadata": {
    "ExecuteTime": {
     "end_time": "2021-10-06T17:07:33.095975Z",
     "start_time": "2021-10-06T17:07:32.754828Z"
    }
   },
   "outputs": [
    {
     "data": {
      "image/png": "[encoded data removed]",
      "text/plain": [
       "<Figure size 864x720 with 2 Axes>"
      ]
     },
     "metadata": {
      "needs_background": "light"
     },
     "output_type": "display_data"
    }
   ],
   "source": [
    "fig, ax = plt.subplots(nrows=2, figsize=(12, 10))\n",
    "ax[0].plot(data)\n",
    "ax[0].set_xlabel('N sample')\n",
    "ax[0].set_ylabel('data value')\n",
    "ax[0].set_title('Data pre-zero suppression')\n",
    "\n",
    "ax[1].plot(data_jit)\n",
    "ax[1].set_xlabel('N sample')\n",
    "ax[1].set_ylabel('data value')\n",
    "ax[1].set_title('Data post-zero suppression')\n",
    "\n",
    "plt.tight_layout()"
   ]
  },
  {
   "cell_type": "markdown",
   "metadata": {},
   "source": [
    "## Exercise 4\n",
    "\n",
    "Calculate the Sigmoid kernel between the matrix X and Y defined as below. The Sigmoid kernel is defined as:\n",
    "\n",
    "$k(x,y) = \\tanh(\\alpha x^T y + c) $"
   ]
  },
  {
   "cell_type": "code",
   "execution_count": 124,
   "metadata": {
    "ExecuteTime": {
     "end_time": "2021-10-06T20:12:59.967303Z",
     "start_time": "2021-10-06T20:12:59.937214Z"
    }
   },
   "outputs": [
    {
     "name": "stdout",
     "output_type": "stream",
     "text": [
      "[[0.43166497 0.90997555 0.73085082]\n",
      " [0.80881197 0.97098102 0.55978047]\n",
      " [0.73610426 0.03832382 0.70872182]]\n",
      "[[0.29139524 0.74561726 0.99551233]\n",
      " [0.29712842 0.49636064 0.50935307]\n",
      " [0.67717669 0.19554226 0.8877151 ]]\n",
      "[[0.12578512 0.60306416 0.73280087]\n",
      " [0.27037959 0.48195676 0.01952036]\n",
      " [0.49491514 0.10946074 0.62914306]] \n",
      "\n",
      "[[0.1251259  0.53922637 0.6247759 ]\n",
      " [0.26397801 0.44780934 0.01951788]\n",
      " [0.4581088  0.10902565 0.55746186]]\n",
      "[[0.1251259  0.53922637 0.6247759 ]\n",
      " [0.26397801 0.44780934 0.01951788]\n",
      " [0.4581088  0.10902565 0.55746186]]\n"
     ]
    }
   ],
   "source": [
    "alpha = 1\n",
    "c = 0\n",
    "\n",
    "X = np.random.rand(3,3)\n",
    "Y = np.random.rand(3,3)\n",
    "Z = X.T*Y\n",
    "\n",
    "print (X)\n",
    "print (Y)\n",
    "print (Z, '\\n')\n",
    "\n",
    "print (np.tanh(Z)) #check\n",
    "\n",
    "@cuda.jit\n",
    "def increment_kernel(io_array):\n",
    "    #pos = cuda.grid(1)\n",
    "    row, col = cuda.grid(2) # For 2D array\n",
    "    if row < io_array.shape[0] and col < io_array.shape[1]:\n",
    "        io_array[row][col] = np.tanh(alpha*io_array[row][col]+c)\n",
    "\n",
    "# Create the data array - usually initialized some other way\n",
    "data = Z\n",
    "\n",
    "# Set the number of threads in a block\n",
    "threadsperblock = (3, 3)\n",
    "\n",
    "# Calculate the number of thread blocks in the grid\n",
    "blockspergrid_x = int(math.ceil(data.shape[0] / threadsperblock[0]))\n",
    "blockspergrid_y = int(math.ceil(data.shape[1] / threadsperblock[1]))\n",
    "blockspergrid = (blockspergrid_x, blockspergrid_y)\n",
    "\n",
    "# Now start the kernel\n",
    "increment_kernel[blockspergrid, threadsperblock](Z)\n",
    "\n",
    "# Print the result\n",
    "print(data)"
   ]
  },
  {
   "cell_type": "markdown",
   "metadata": {},
   "source": [
    "## Exercise 5\n",
    "\n",
    "Create a kernel function similar to the ```double_kernel``` see during the lecture and create a new function that takes a 3 dimensional matrix as input calculating the $cos$ for each element and then returns the result. The shape of the matrix must be $256X256X256$. The matrix can be randomly generated"
   ]
  },
  {
   "cell_type": "code",
   "execution_count": 34,
   "metadata": {
    "ExecuteTime": {
     "end_time": "2021-10-06T19:34:54.138235Z",
     "start_time": "2021-10-06T19:33:11.116830Z"
    },
    "scrolled": true
   },
   "outputs": [
    {
     "name": "stdout",
     "output_type": "stream",
     "text": [
      "[[[0.94700745 0.86039446 0.78500965 ... 0.56050606 0.76463728 0.78922968]\n",
      "  [0.76021772 0.9511471  0.99359674 ... 0.88841948 0.96894231 0.68438612]\n",
      "  [0.99511843 0.71013972 0.76436492 ... 0.61289083 0.86326304 0.87646961]\n",
      "  ...\n",
      "  [0.98943235 0.80763322 0.86089046 ... 0.64070184 0.77415169 0.68080189]\n",
      "  [0.91018597 0.9379527  0.78032545 ... 0.57666184 0.6561864  0.59169619]\n",
      "  [0.70934737 0.98837207 0.98872997 ... 0.6412634  0.94702667 0.6655066 ]]\n",
      "\n",
      " [[0.70749479 0.73464873 0.6271937  ... 0.9511711  0.88064729 0.87846546]\n",
      "  [0.77372783 0.84163607 0.99306839 ... 0.97815741 0.57202641 0.72135007]\n",
      "  [0.68690129 0.8655519  0.80572261 ... 0.65544478 0.81736484 0.95112165]\n",
      "  ...\n",
      "  [0.99811507 0.68604562 0.97324256 ... 0.62045044 0.72969141 0.88074865]\n",
      "  [0.86533772 0.73812407 0.89209658 ... 0.99903453 0.92918363 0.75075069]\n",
      "  [0.99083435 0.57618495 0.972273   ... 0.99975351 0.9811981  0.93220494]]\n",
      "\n",
      " [[0.95915338 0.93070706 0.62556318 ... 0.94865109 0.92880989 0.85901203]\n",
      "  [0.98906191 0.93343105 0.99898278 ... 0.70138402 0.58776287 0.74108647]\n",
      "  [0.78315034 0.60419046 0.5813976  ... 0.57111298 0.85600026 0.96474258]\n",
      "  ...\n",
      "  [0.98837308 0.76549518 0.98651395 ... 0.98547211 0.91916517 0.71060634]\n",
      "  [0.89315705 0.66105438 0.95296675 ... 0.94163221 0.87724585 0.97284532]\n",
      "  [0.94313271 0.73179803 0.9987714  ... 0.90454071 0.57664676 0.57995395]]\n",
      "\n",
      " ...\n",
      "\n",
      " [[0.99528753 0.6066503  0.73295029 ... 0.9015881  0.85122339 0.92595062]\n",
      "  [0.88902337 0.88552972 0.80923379 ... 0.6956404  0.57938344 0.72952411]\n",
      "  [0.887047   0.9915801  0.80505538 ... 0.83344422 0.90392977 0.57398698]\n",
      "  ...\n",
      "  [0.80588191 0.7045472  0.95359396 ... 0.76682686 0.88359953 0.83870245]\n",
      "  [0.8045393  0.93318799 0.99849663 ... 0.92953507 0.97627205 0.75544646]\n",
      "  [0.96521681 0.77457246 0.85775632 ... 0.99844741 0.65421967 0.97070002]]\n",
      "\n",
      " [[0.90230464 0.98740661 0.99848621 ... 0.8144256  0.99452801 0.96883305]\n",
      "  [0.86303611 0.9188534  0.91259614 ... 0.96483471 0.58240577 0.95510285]\n",
      "  [0.83417486 0.710299   0.95811795 ... 0.81962439 0.62470965 0.95953507]\n",
      "  ...\n",
      "  [0.98743379 0.92180347 0.91879351 ... 0.57677969 0.99638262 0.9703342 ]\n",
      "  [0.85861192 0.58149749 0.82509246 ... 0.90946545 0.65126543 0.69850312]\n",
      "  [0.96636577 0.97460582 0.99665422 ... 0.95798292 0.55555867 0.99575981]]\n",
      "\n",
      " [[0.88677652 0.97466026 0.99375873 ... 0.86350466 0.92386545 0.93023098]\n",
      "  [0.87687973 0.8541341  0.99534818 ... 0.89419081 0.95636564 0.85348567]\n",
      "  [0.9795819  0.56147665 0.88483065 ... 0.9977933  0.7067963  0.61407851]\n",
      "  ...\n",
      "  [0.57467039 0.92306914 0.99602349 ... 0.89368483 0.86284752 0.77242329]\n",
      "  [0.8608836  0.9447588  0.90594662 ... 0.99168538 0.99682444 0.92995217]\n",
      "  [0.86209309 0.7165114  0.84109091 ... 0.8493498  0.98689103 0.89996769]]]\n"
     ]
    }
   ],
   "source": [
    "@cuda.jit (float64(float64, float64, float64))\n",
    "def double_kernel_3D(io_array):\n",
    "    row, col, hig = cuda.grid(3)\n",
    "    if row < io_array.shape[0] and col < io_array.shape[1] and hig < io_array.shape[2]:\n",
    "        io_array[row][col][hig] = np.cos(io_array[row][col][hig])\n",
    "\n",
    "data = np.random.rand(64,64,64)\n",
    "#DONE with 64 instead of 256\n",
    "\n",
    "threadsperblock = (8, 4, 2) #ThreadsPerBlock must be a divisor of the data dimension: 1024/ 64 / 16 = 1\n",
    "blockspergrid_x = int(math.ceil(data.shape[0] / threadsperblock[0]))\n",
    "blockspergrid_y = int(math.ceil(data.shape[1] / threadsperblock[1]))\n",
    "blockspergrid_z = int(math.ceil(data.shape[2] / threadsperblock[2]))\n",
    "blockspergrid = (blockspergrid_x, blockspergrid_y, blockspergrid_z)\n",
    "\n",
    "double_kernel_3D[blockspergrid, threadsperblock](data)\n",
    "print(data)"
   ]
  },
  {
   "cell_type": "markdown",
   "metadata": {},
   "source": [
    "## Exercise 6\n",
    "\n",
    "Create a matrix multiplication kernel function, called ```matmul``` that takes as input two 2D matrices:\n",
    "+ A of shape $24x12$\n",
    "+ B of shape $12x22$\n",
    "and that computes the multiplication and put the results into a third matrix C of shape $24x12$\n",
    "\n",
    "A and B must be randomly generated and only int values are allowed.\n"
   ]
  },
  {
   "cell_type": "code",
   "execution_count": 28,
   "metadata": {
    "ExecuteTime": {
     "end_time": "2021-10-06T17:10:48.514388Z",
     "start_time": "2021-10-06T17:10:48.283918Z"
    },
    "scrolled": true
   },
   "outputs": [
    {
     "name": "stdout",
     "output_type": "stream",
     "text": [
      "[[3.50382006 2.4758568  2.75608878 2.70453347 2.43640818 2.40388009\n",
      "  3.42314952 2.37961044 3.37458549 3.35308876 2.91587708 3.05008284\n",
      "  3.16157115 2.66609902 3.27187535 3.37082548 3.5439278  3.35025594\n",
      "  2.9077346  2.94823564 2.67100981 2.25207412]\n",
      " [4.57075561 3.18712294 2.83896887 3.09217553 2.39151279 2.82810897\n",
      "  3.65405594 3.06795948 3.7759489  3.73781607 3.08201637 3.6983073\n",
      "  3.35464865 3.33625081 3.40303343 3.34718727 4.11566196 3.64189588\n",
      "  3.51060105 3.05687433 3.20013653 2.69793056]\n",
      " [4.55264358 3.63599556 3.33291071 3.36224871 3.17181582 2.66019608\n",
      "  4.14599043 3.61502174 4.20958524 4.08997575 4.36638935 4.46546811\n",
      "  3.86291605 2.98147284 4.1213523  4.25282076 4.11450729 4.33153315\n",
      "  3.70683026 3.91344552 3.78516639 3.29729419]\n",
      " [3.79716025 3.28496369 2.60587452 2.46566021 2.97310661 2.34921873\n",
      "  3.22607928 2.97101408 3.59427979 3.10035351 3.29347202 3.80690264\n",
      "  2.97193677 2.32753548 3.39728687 3.24994855 2.89637426 3.42879469\n",
      "  3.05817793 3.12640397 2.99541717 2.52063927]\n",
      " [2.96400857 3.1121863  3.38248055 3.28189076 2.72351383 2.68635492\n",
      "  3.39385766 2.50385462 3.29661519 3.03454013 3.04970133 3.42136799\n",
      "  3.1916215  2.42888957 3.39997004 2.95525808 3.06528899 3.64833375\n",
      "  2.44012071 3.09699142 2.52937828 2.61965424]\n",
      " [5.04065774 3.67405085 3.28958058 3.33614377 3.22437552 3.03928644\n",
      "  3.98776625 3.51706239 4.51191196 4.18574006 4.0834215  4.09030419\n",
      "  4.1474961  3.5955472  4.33547312 4.0142286  4.17628833 4.09864706\n",
      "  4.05584908 3.75831953 3.69225834 2.67161635]\n",
      " [4.73959615 3.50847923 3.24108536 3.4232574  3.26047944 2.54906839\n",
      "  4.35641722 3.55046362 4.0119873  4.28757681 3.89235596 4.04709117\n",
      "  4.10632129 3.03469266 4.5478974  3.99686152 4.09440067 4.36395232\n",
      "  3.95245064 3.63456965 3.59220446 3.37156875]\n",
      " [3.28586767 2.56513502 2.24409019 2.33657622 2.72645896 2.41390538\n",
      "  3.08232578 2.28651465 3.42909018 2.94698091 2.32354523 3.07865843\n",
      "  2.8935293  2.29625107 2.93284675 3.15689852 2.83557861 3.04861956\n",
      "  2.67883901 2.84481993 2.45001342 1.96280366]\n",
      " [3.33054921 2.92885245 2.4629284  2.72644454 2.374541   2.32494046\n",
      "  3.06580634 2.26052664 3.05010666 2.47365385 2.43260074 2.72284618\n",
      "  3.04692856 2.21045039 3.25841704 2.17701651 2.53175211 3.06256348\n",
      "  2.56174868 2.75319352 2.17447382 2.05785028]\n",
      " [3.3475406  2.75649299 2.57609055 3.1478963  2.34697968 2.04640736\n",
      "  3.2026016  2.7379619  3.11665618 3.2125323  2.68004436 3.47118738\n",
      "  3.07187268 2.18008871 2.57553175 2.99854931 3.62657104 3.60658746\n",
      "  2.76299903 2.79154181 2.80200527 2.91305809]\n",
      " [4.78265339 3.47869895 3.14271372 3.62723633 2.90950401 2.87847582\n",
      "  4.25550863 3.30621512 4.21836724 4.131534   3.70624211 3.97442\n",
      "  3.73515549 3.14005798 4.07220897 3.97747839 4.11772364 4.15858402\n",
      "  3.61367057 3.55606189 3.65771863 3.24215964]\n",
      " [4.51718595 3.94574999 3.91810426 3.41629003 3.06525756 3.06366869\n",
      "  4.72632734 3.08886191 3.7762021  3.5846296  3.39471985 4.07870922\n",
      "  3.67004489 2.87733067 4.13330469 3.29894789 4.23756982 4.85443942\n",
      "  3.73083247 3.64096437 2.96317676 3.35739424]\n",
      " [4.0404452  3.44505077 2.69547591 2.77166205 2.40734098 2.47793908\n",
      "  3.49905232 3.24562967 3.35924892 3.42986731 3.57261313 3.53084124\n",
      "  2.69160105 2.62705498 3.69859689 3.50246314 2.49216443 3.44690191\n",
      "  2.86774184 2.92346486 3.27955699 2.73449965]\n",
      " [4.71679636 3.63914628 3.19041456 2.95468997 3.1152881  2.58359562\n",
      "  4.44867587 3.54281916 3.55768052 4.00416502 3.21938077 4.00950732\n",
      "  3.91040535 3.03332804 4.32383478 3.53997765 4.02949544 4.48597652\n",
      "  4.10021447 3.42102375 3.10306243 3.27170856]\n",
      " [4.01181489 3.02820788 2.88249871 2.17559622 2.63990596 2.009923\n",
      "  3.93377339 2.99180901 3.13138986 3.29430639 3.50052111 3.54639171\n",
      "  3.38419102 2.43556691 3.69343079 3.41103105 3.67627346 4.01826546\n",
      "  3.63748577 3.36435035 2.74966809 2.61636804]\n",
      " [4.88757657 4.07323595 3.07826592 3.55488592 2.53617222 3.13442468\n",
      "  4.29053244 3.3756874  3.86723378 3.47977249 3.27651827 3.75902327\n",
      "  3.57660447 3.14816609 4.00047345 3.15324012 3.42606558 4.17840169\n",
      "  3.46633865 3.50794068 3.20001945 3.00316992]\n",
      " [4.72851458 3.68259573 3.30726654 3.58263822 2.838069   3.00024488\n",
      "  4.54369986 3.2359569  3.99251734 3.76122477 3.23956392 4.04022564\n",
      "  4.01964052 3.12415935 3.87079773 3.49837489 4.46363006 4.55119822\n",
      "  3.78304111 3.78814204 3.14706441 3.2261627 ]\n",
      " [3.25837236 2.30289509 2.3704264  2.54553817 2.10897416 2.14429297\n",
      "  3.33259081 2.19099661 2.9437609  2.9921527  2.68309134 2.63196933\n",
      "  2.93336683 2.37140656 3.4561671  2.92709303 2.89278644 2.92605207\n",
      "  2.53320654 2.75384713 2.38848315 2.24642476]\n",
      " [4.57122378 3.593654   2.54427195 2.68877919 2.52713426 1.97114828\n",
      "  3.53809077 3.64799092 3.23613826 3.43691992 3.67170604 4.13697205\n",
      "  3.08538252 2.52458766 3.73845377 2.99693646 3.42597418 3.68138061\n",
      "  3.5868383  3.01607631 3.39757121 3.3944268 ]\n",
      " [2.21492365 1.81242462 1.76871766 1.8668709  1.88748066 1.33532997\n",
      "  2.10943588 2.01317542 2.26114673 2.33324575 2.22054403 2.86865963\n",
      "  2.07122523 1.52217909 2.04307298 2.34340808 2.59001806 2.28422064\n",
      "  1.94217011 2.08843191 2.10683234 2.19255908]\n",
      " [4.03165242 3.79145675 3.29960438 3.47497483 2.57751095 3.13054875\n",
      "  4.07213003 2.89002533 3.81533902 3.12303801 3.43832828 3.73925354\n",
      "  3.1500537  2.69806594 3.71482643 3.27251477 3.10613396 3.98881701\n",
      "  2.77336109 3.55927806 3.01938821 2.88531425]\n",
      " [3.81286322 2.98135694 2.46848742 2.44525805 1.9275184  2.16886272\n",
      "  2.88197232 2.31474655 3.00196104 2.25753175 2.77411905 2.9371478\n",
      "  2.8279684  2.36743536 2.83426348 1.82829538 3.23871902 3.04051972\n",
      "  2.92875954 2.68945929 2.29911713 2.03036943]\n",
      " [4.02100364 3.11381666 2.6821701  2.90217408 2.87276074 2.41043697\n",
      "  3.20664772 3.28583238 3.72144501 3.95073632 3.60331629 3.49729363\n",
      "  3.15661962 2.85912838 3.70977189 3.93294171 2.84767124 3.39316916\n",
      "  3.14447015 2.86531519 3.49886977 2.4900337 ]\n",
      " [2.58968116 1.95478203 2.1709631  1.88748499 1.94124261 1.70942161\n",
      "  2.5617737  2.06850281 2.50588469 2.57513354 2.65210859 2.56845837\n",
      "  2.66512971 2.12162657 2.76394355 2.67023716 2.69633983 2.55137385\n",
      "  2.33396414 2.51489583 2.06410359 1.71561343]]\n"
     ]
    }
   ],
   "source": [
    "from __future__ import division\n",
    "from numba import cuda\n",
    "import numpy\n",
    "import math\n",
    "\n",
    "@cuda.jit (float64(int32, int32, int32))\n",
    "def matmul(A, B, C):\n",
    "    ###Perform matrix multiplication of C = A * B\n",
    "    row, col = cuda.grid(2)\n",
    "    if row < C.shape[0] and col < C.shape[1]:\n",
    "        tmp = 0.\n",
    "        for k in range(A.shape[1]):\n",
    "            tmp += A[row, k] * B[k, col]\n",
    "        C[row, col] = tmp\n",
    "\n",
    "# Initialize the data arrays\n",
    "A = np.random.rand(24,12)\n",
    "B = np.random.rand(12,22)\n",
    "C = np.zeros ((24,22))\n",
    "\n",
    "# Configure the blocks\n",
    "threadsperblock = (6,4)\n",
    "blockspergrid_x = int(math.ceil(A.shape[0] / threadsperblock[0]))\n",
    "blockspergrid_y = int(math.ceil(B.shape[1] / threadsperblock[1]))\n",
    "blockspergrid = (blockspergrid_x, blockspergrid_y)\n",
    "\n",
    "matmul[blockspergrid, threadsperblock](A,B,C)\n",
    "print(C)"
   ]
  }
 ],
 "metadata": {
  "kernelspec": {
   "display_name": "Python 3",
   "language": "python",
   "name": "python3"
  },
  "language_info": {
   "codemirror_mode": {
    "name": "ipython",
    "version": 3
   },
   "file_extension": ".py",
   "mimetype": "text/x-python",
   "name": "python",
   "nbconvert_exporter": "python",
   "pygments_lexer": "ipython3",
   "version": "3.7.10"
  },
  "toc": {
   "base_numbering": 1,
   "nav_menu": {},
   "number_sections": true,
   "sideBar": true,
   "skip_h1_title": false,
   "title_cell": "Table of Contents",
   "title_sidebar": "Contents",
   "toc_cell": false,
   "toc_position": {},
   "toc_section_display": true,
   "toc_window_display": false
  },
  "varInspector": {
   "cols": {
    "lenName": 16,
    "lenType": 16,
    "lenVar": 40
   },
   "kernels_config": {
    "python": {
     "delete_cmd_postfix": "",
     "delete_cmd_prefix": "del ",
     "library": "var_list.py",
     "varRefreshCmd": "print(var_dic_list())"
    },
    "r": {
     "delete_cmd_postfix": ") ",
     "delete_cmd_prefix": "rm(",
     "library": "var_list.r",
     "varRefreshCmd": "cat(var_dic_list()) "
    }
   },
   "types_to_exclude": [
    "module",
    "function",
    "builtin_function_or_method",
    "instance",
    "_Feature"
   ],
   "window_display": false
  }
 },
 "nbformat": 4,
 "nbformat_minor": 2
}
