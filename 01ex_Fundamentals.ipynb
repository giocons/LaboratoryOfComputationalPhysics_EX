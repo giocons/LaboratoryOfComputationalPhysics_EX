{
 "cells": [
  {
   "cell_type": "markdown",
   "metadata": {},
   "source": [
    "**1\\. Write the following as a list comprehension**"
   ]
  },
  {
   "cell_type": "code",
   "execution_count": 1,
   "metadata": {},
   "outputs": [
    {
     "name": "stdout",
     "output_type": "stream",
     "text": [
      "[(0, 0), (0, 1), (0, 2), (0, 3), (1, 0), (1, 1), (1, 2), (1, 3), (2, 0), (2, 1), (2, 2), (2, 3)]\n",
      "[0, 4, 16]\n",
      "[(0, 0), (0, 1), (0, 2), (0, 3), (1, 0), (1, 1), (1, 2), (1, 3), (2, 0), (2, 1), (2, 2), (2, 3)]\n",
      "[0, 4, 16]\n"
     ]
    }
   ],
   "source": [
    "# 1\n",
    "ans = []\n",
    "for i in range(3):\n",
    "    for j in range(4):\n",
    "        ans.append((i, j))\n",
    "print (ans)\n",
    "\n",
    "# 2\n",
    "ans = map(lambda x: x*x, filter(lambda x: x%2 == 0, range(5)))\n",
    "print (list(ans))\n",
    "\n",
    "#-------------------------------------------------------\n",
    "\n",
    "# 1B\n",
    "ans_1B = [(x,y) for x in range (3) for y in range (4)]\n",
    "print (ans_1B)\n",
    "\n",
    "# 2B\n",
    "ans_2B = [x**2 for x in range (5) if x%2==0]\n",
    "print (ans_2B)"
   ]
  },
  {
   "cell_type": "markdown",
   "metadata": {},
   "source": [
    "**2\\. Convert the following function into a pure function with no global variables or side effects**"
   ]
  },
  {
   "cell_type": "code",
   "execution_count": 2,
   "metadata": {
    "scrolled": true
   },
   "outputs": [
    {
     "name": "stdout",
     "output_type": "stream",
     "text": [
      "[1, 2, 3, 0, 1, 2, 3, 4] ans\n",
      "[1, 2, 3, 0, 1, 2, 3, 4] alist\n",
      "[1, 2, 3] blist before\n",
      "[1, 2, 3, 0, 1, 2, 3, 4] bans\n",
      "[1, 2, 3] blist after\n"
     ]
    }
   ],
   "source": [
    "x = 5\n",
    "def f(alist):\n",
    "    for i in range(x):\n",
    "         alist.append(i)\n",
    "    return alist\n",
    "\n",
    "alist = [1,2,3]\n",
    "ans = f(alist)\n",
    "print (ans, 'ans')\n",
    "print (alist, 'alist') # alist has been changed!\n",
    "\n",
    "#-------------------------------------------------------\n",
    "\n",
    "def f_new (blist):\n",
    "    blist_new = blist + []\n",
    "    y = 5\n",
    "    for i in range(y):\n",
    "         blist_new.append(i)\n",
    "    return blist_new\n",
    "\n",
    "blist = [1,2,3]\n",
    "print (blist, 'blist before')\n",
    "bans = f_new(blist)\n",
    "print (bans, 'bans')\n",
    "print (blist, 'blist after')"
   ]
  },
  {
   "cell_type": "markdown",
   "metadata": {},
   "source": [
    "**3\\. Write a `decorator` hello that makes every wrapped function print “Hello!”, i.e. something like:**\n",
    "\n",
    "```python\n",
    "@hello\n",
    "def square(x):\n",
    "    return x*x\n",
    "```\n",
    "\n"
   ]
  },
  {
   "cell_type": "code",
   "execution_count": 3,
   "metadata": {},
   "outputs": [],
   "source": [
    "def hello (func):\n",
    "    def wrapper(x):\n",
    "        print(\"Hello!\")\n",
    "        func(x)\n",
    "        print(\"Hello!\")\n",
    "    return wrapper\n",
    "\n",
    "@hello\n",
    "def square(x):\n",
    "    print (x*x)"
   ]
  },
  {
   "cell_type": "code",
   "execution_count": 4,
   "metadata": {},
   "outputs": [
    {
     "name": "stdout",
     "output_type": "stream",
     "text": [
      "Hello!\n",
      "49\n",
      "Hello!\n"
     ]
    }
   ],
   "source": [
    "square (7)"
   ]
  },
  {
   "cell_type": "markdown",
   "metadata": {},
   "source": [
    "**4\\. Write the factorial function so that it a) does and b) does not use recursion.**"
   ]
  },
  {
   "cell_type": "code",
   "execution_count": 6,
   "metadata": {
    "ExecuteTime": {
     "end_time": "2021-10-03T14:42:49.471739Z",
     "start_time": "2021-10-03T14:42:49.461803Z"
    }
   },
   "outputs": [
    {
     "name": "stdout",
     "output_type": "stream",
     "text": [
      "1\n",
      "1\n",
      "2\n",
      "6\n",
      "24\n",
      "120\n",
      "720\n",
      "5040\n",
      "40320\n",
      "362880\n"
     ]
    }
   ],
   "source": [
    "def fac_rec (x):\n",
    "    if x==0 or x==1:\n",
    "        return 1\n",
    "    else:\n",
    "        a = fac_rec(x-1)\n",
    "        return x*a\n",
    "\n",
    "for i in range (10):\n",
    "    print (fac_rec(i))"
   ]
  },
  {
   "cell_type": "code",
   "execution_count": 7,
   "metadata": {
    "ExecuteTime": {
     "end_time": "2021-10-03T14:42:51.214004Z",
     "start_time": "2021-10-03T14:42:51.200042Z"
    }
   },
   "outputs": [
    {
     "name": "stdout",
     "output_type": "stream",
     "text": [
      "1\n",
      "1\n",
      "2\n",
      "6\n",
      "24\n",
      "120\n",
      "720\n",
      "5040\n",
      "40320\n",
      "362880\n"
     ]
    }
   ],
   "source": [
    "def fac_norec (y):\n",
    "    if y==0 or y==1:\n",
    "        return 1\n",
    "    else:\n",
    "        for i in range (1, y):\n",
    "            y=y*i\n",
    "        return y\n",
    "    \n",
    "for i in range (10):\n",
    "    print (fac_norec(i))"
   ]
  },
  {
   "cell_type": "markdown",
   "metadata": {},
   "source": [
    "**5\\. Use HOFs (zip in particular) to compute the weight of a circle, a disk and a sphere, assuming different radii and different densities:**\n",
    "\n",
    "```python\n",
    "densities = {\"Al\":[0.5,1,2],\"Fe\":[3,4,5],\"Pb\": [15,20,30]}\n",
    "radii = [1,2,3]\n",
    "```\n",
    "\n",
    "where the entries of the dictionary's values are the linear, superficial and volumetric densities of the materials respectively.\n",
    "\n",
    "In particular define a list of three lambda functions using a comprehension that computes the circumference, the area and the volume for a given radius.\n"
   ]
  },
  {
   "cell_type": "code",
   "execution_count": 7,
   "metadata": {},
   "outputs": [
    {
     "name": "stdout",
     "output_type": "stream",
     "text": [
      "{'circ': [6.283185307179586, 12.566370614359172, 18.84955592153876], 'disk': [3.141592653589793, 12.566370614359172, 28.274333882308138], 'sphere': [4.1887902047863905, 33.510321638291124, 113.09733552923254]}\n"
     ]
    }
   ],
   "source": [
    "import numpy as np\n",
    "den = {\"Al\":[0.5,1,2],\"Fe\":[3,4,5],\"Pb\": [15,20,30]}\n",
    "rad = [1,2,3]\n",
    "circ = []\n",
    "disk = []\n",
    "sphere = []\n",
    "\n",
    "for i in map(lambda x: 2*np.pi*x, rad): circ.append(i)\n",
    "for i in map(lambda x: np.pi*x**2, rad): disk.append(i)\n",
    "for i in map(lambda x: (4/3)*np.pi*x**3, rad): sphere.append(i)\n",
    "\n",
    "shell = dict(circ=circ, disk=disk, sphere=sphere)\n",
    "print (shell)"
   ]
  },
  {
   "cell_type": "code",
   "execution_count": 8,
   "metadata": {},
   "outputs": [
    {
     "name": "stdout",
     "output_type": "stream",
     "text": [
      "6.283185307179586\n",
      "0.5\n",
      "1\n",
      "2\n",
      "12.566370614359172\n",
      "0.5\n",
      "1\n",
      "2\n",
      "18.84955592153876\n",
      "0.5\n",
      "1\n",
      "2\n",
      "3.141592653589793\n",
      "3\n",
      "4\n",
      "5\n",
      "12.566370614359172\n",
      "3\n",
      "4\n",
      "5\n",
      "28.274333882308138\n",
      "3\n",
      "4\n",
      "5\n",
      "4.1887902047863905\n",
      "15\n",
      "20\n",
      "30\n",
      "33.510321638291124\n",
      "15\n",
      "20\n",
      "30\n",
      "113.09733552923254\n",
      "15\n",
      "20\n",
      "30\n",
      "[3.141592653589793, 6.283185307179586, 12.566370614359172, 6.283185307179586, 12.566370614359172, 25.132741228718345, 9.42477796076938, 18.84955592153876, 37.69911184307752, 9.42477796076938, 12.566370614359172, 15.707963267948966, 37.69911184307752, 50.26548245743669, 62.83185307179586, 84.82300164692441, 113.09733552923255, 141.3716694115407, 62.831853071795855, 83.7758040957278, 125.66370614359171, 502.65482457436684, 670.2064327658225, 1005.3096491487337, 1696.460032938488, 2261.9467105846506, 3392.920065876976]\n"
     ]
    }
   ],
   "source": [
    "weights = []\n",
    "for i,j in zip(shell, den):\n",
    "    for m in shell [i]:\n",
    "        print (m)\n",
    "        for n in den [j]:\n",
    "            print (n)\n",
    "            A = m*n\n",
    "            weights.append(A)\n",
    "        \n",
    "print (weights)"
   ]
  },
  {
   "cell_type": "markdown",
   "metadata": {},
   "source": [
    "**6\\. Edit the class defintion to add an instance attribute of is_hungry = True to the Dog class. Then add a method called eat() which changes the value of is_hungry to False when called. Figure out the best way to feed each dog and then output “My dogs are hungry.” if all are hungry or “My dogs are not hungry.” if all are not hungry. The final output should look like this:**\n",
    "\n",
    "`I have 3 dogs. \n",
    "Tom is 6. \n",
    "Fletcher is 7. \n",
    "Larry is 9. \n",
    "And they're all mammals, of course. \n",
    "My dogs are not hungry.\n",
    "`\n",
    "\n",
    "```python\n",
    "# Parent class\n",
    "class Dog:\n",
    "\n",
    "    # Class attribute\n",
    "    species = 'mammal'\n",
    "\n",
    "    # Initializer / Instance attributes\n",
    "    def __init__(self, name, age):\n",
    "        self.name = name\n",
    "        self.age = age\n",
    "\n",
    "    # instance method\n",
    "    def description(self):\n",
    "        return \"{} is {} years old.\".format(self.name, self.age)\n",
    "\n",
    "    # instance method\n",
    "    def speak(self, sound):\n",
    "        return \"{} says {}\".format(self.name, sound)\n",
    "\n",
    "# Child class (inherits from Dog class)\n",
    "class RussellTerrier(Dog):\n",
    "    def run(self, speed):\n",
    "        return \"{} runs {}\".format(self.name, speed)\n",
    "\n",
    "# Child class (inherits from Dog class)\n",
    "class Bulldog(Dog):\n",
    "    def run(self, speed):\n",
    "        return \"{} runs {}\".format(self.name, speed)\n",
    "```"
   ]
  },
  {
   "cell_type": "code",
   "execution_count": 9,
   "metadata": {},
   "outputs": [],
   "source": [
    "class Dog:\n",
    "\n",
    "    # Class attribute\n",
    "    species = 'mammal'\n",
    "\n",
    "    # Initializer / Instance attributes\n",
    "    def __init__(self, name, age, is_hungry=True):\n",
    "        self.name = name\n",
    "        self.age = age\n",
    "        self.is_hungry = is_hungry\n",
    "\n",
    "    # instance method\n",
    "    def description(self):\n",
    "        return \"{} is {} years old\".format(self.name, self.age)\n",
    "    \n",
    "    def eat(self):\n",
    "        self.is_hungry = False\n",
    "        return 'Dog has eaten'\n",
    "\n",
    "    # instance method\n",
    "    def specie(self, species):\n",
    "        return \"And they're all {}, of course.\".format(species)\n",
    "    \n",
    "    def hungry(self):#1, self2, self3):\n",
    "        if self.is_hungry == True:# and self2.is_hungry == True and self3.is_hungry == True:\n",
    "            return \"My dogs are hungry.\".format()\n",
    "        if self.is_hungry == False:# and self2.is_hungry == False and self3.is_hungry == False:\n",
    "            return \"My dogs are not hungry.\".format()"
   ]
  },
  {
   "cell_type": "code",
   "execution_count": 10,
   "metadata": {},
   "outputs": [
    {
     "name": "stdout",
     "output_type": "stream",
     "text": [
      "I have 3 dogs\n",
      "Tom is 6 years old\n",
      "Fletcher is 7 years old\n",
      "Larry is 9 years old\n",
      "And they're all mammal, of course.\n",
      "My dogs are hungry.\n",
      "\n",
      "\n",
      "I have 3 dogs\n",
      "Tom is 6 years old\n",
      "Fletcher is 7 years old\n",
      "Larry is 9 years old\n",
      "And they're all mammal, of course.\n",
      "My dogs are NOT hungry.\n"
     ]
    }
   ],
   "source": [
    "ages = [6,7,9]\n",
    "Dogs = dict(dog = ('Tom', 'Fletcher', 'Larry'))\n",
    "\n",
    "def cani (feed):\n",
    "    print ('I have', len(Dogs['dog']), 'dogs')\n",
    "\n",
    "    Tom = Dog (Dogs['dog'][0], ages[0])\n",
    "    Fletcher = Dog (Dogs['dog'][1], ages[1])\n",
    "    Larry = Dog (Dogs['dog'][2], ages[2])\n",
    "\n",
    "    print (Tom.description())\n",
    "    print (Fletcher.description())\n",
    "    print (Larry.description())\n",
    "\n",
    "    if Tom.species == Fletcher.species == Larry.species == 'mammal':\n",
    "        print (\"And they're all mammal, of course.\")\n",
    "    \n",
    "    if feed == False:\n",
    "        pass\n",
    "    if feed == True:\n",
    "        Tom.eat()\n",
    "        Fletcher.eat()\n",
    "        Larry.eat()\n",
    "        \n",
    "    if Tom.is_hungry == Fletcher.is_hungry == Larry.is_hungry == True:\n",
    "        print (\"My dogs are hungry.\")\n",
    "    if Tom.is_hungry == Fletcher.is_hungry == Larry.is_hungry == False:\n",
    "        print (\"My dogs are NOT hungry.\")\n",
    "        \n",
    "cani(feed = False)\n",
    "\n",
    "#feed the dogs\n",
    "print ('\\n')\n",
    "cani(feed = True)\n"
   ]
  },
  {
   "cell_type": "code",
   "execution_count": null,
   "metadata": {},
   "outputs": [],
   "source": []
  }
 ],
 "metadata": {
  "kernelspec": {
   "display_name": "Python 3",
   "language": "python",
   "name": "python3"
  },
  "language_info": {
   "codemirror_mode": {
    "name": "ipython",
    "version": 3
   },
   "file_extension": ".py",
   "mimetype": "text/x-python",
   "name": "python",
   "nbconvert_exporter": "python",
   "pygments_lexer": "ipython3",
   "version": "3.7.10"
  },
  "toc": {
   "base_numbering": 1,
   "nav_menu": {},
   "number_sections": true,
   "sideBar": true,
   "skip_h1_title": false,
   "title_cell": "Table of Contents",
   "title_sidebar": "Contents",
   "toc_cell": false,
   "toc_position": {},
   "toc_section_display": true,
   "toc_window_display": false
  },
  "varInspector": {
   "cols": {
    "lenName": 16,
    "lenType": 16,
    "lenVar": 40
   },
   "kernels_config": {
    "python": {
     "delete_cmd_postfix": "",
     "delete_cmd_prefix": "del ",
     "library": "var_list.py",
     "varRefreshCmd": "print(var_dic_list())"
    },
    "r": {
     "delete_cmd_postfix": ") ",
     "delete_cmd_prefix": "rm(",
     "library": "var_list.r",
     "varRefreshCmd": "cat(var_dic_list()) "
    }
   },
   "types_to_exclude": [
    "module",
    "function",
    "builtin_function_or_method",
    "instance",
    "_Feature"
   ],
   "window_display": false
  }
 },
 "nbformat": 4,
 "nbformat_minor": 2
}
