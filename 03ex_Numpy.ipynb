{
 "cells": [
  {
   "cell_type": "markdown",
   "metadata": {},
   "source": [
    "### Numpy basics"
   ]
  },
  {
   "cell_type": "markdown",
   "metadata": {},
   "source": [
    "**1\\. Find the row, column and overall means for the following matrix:**\n",
    "\n",
    "```python\n",
    "m = np.arange(12).reshape((3,4))\n",
    "```"
   ]
  },
  {
   "cell_type": "code",
   "execution_count": 1,
   "metadata": {},
   "outputs": [
    {
     "name": "stdout",
     "output_type": "stream",
     "text": [
      "[[ 0  1  2  3]\n",
      " [ 4  5  6  7]\n",
      " [ 8  9 10 11]] \n",
      "\n",
      "overall mean: 5.5 \n",
      "\n",
      "[0 1 2 3]\n",
      "mean of the row above: 1.5 \n",
      "\n",
      "[4 5 6 7]\n",
      "mean of the row above: 5.5 \n",
      "\n",
      "[ 8  9 10 11]\n",
      "mean of the row above: 9.5 \n",
      "\n",
      "[0 4 8]\n",
      "mean of the original column: 4.0 \n",
      "\n",
      "[1 5 9]\n",
      "mean of the original column: 5.0 \n",
      "\n",
      "[ 2  6 10]\n",
      "mean of the original column: 6.0 \n",
      "\n",
      "[ 3  7 11]\n",
      "mean of the original column: 7.0 \n",
      "\n"
     ]
    }
   ],
   "source": [
    "import numpy as np\n",
    "m = np.arange(12).reshape((3,4))\n",
    "print (m,'\\n')\n",
    "\n",
    "c=m.T\n",
    "\n",
    "sum_tot = np.sum(m)\n",
    "a_flat = m.flatten()\n",
    "\n",
    "print ('overall mean:', sum_tot/len(a_flat),'\\n')\n",
    "\n",
    "def mean_row ():\n",
    "    for i in range (0,len(m)):\n",
    "        a = m [i,:]\n",
    "        print (a)\n",
    "        print ('mean of the row above:', np.sum(a)/len(c),'\\n')\n",
    "\n",
    "mean_row()\n",
    "\n",
    "def mean_column ():\n",
    "    for j in range (0,len(c)):\n",
    "        b = c [j,:]\n",
    "        print (b)\n",
    "        print ('mean of the original column:', np.sum(b)/len(m),'\\n')\n",
    "        \n",
    "mean_column()"
   ]
  },
  {
   "cell_type": "markdown",
   "metadata": {},
   "source": [
    "**2\\. Find the outer product of the following two vectors**\n",
    "\n",
    "```python\n",
    "u = np.array([1,3,5,7])\n",
    "v = np.array([2,4,6,8])\n",
    "```\n",
    "\n",
    "Do this in the following ways:\n",
    "\n",
    "   * Using the function outer in numpy\n",
    "   * Using a nested for loop or list comprehension\n",
    "   * Using numpy broadcasting operatoins\n"
   ]
  },
  {
   "cell_type": "code",
   "execution_count": 2,
   "metadata": {},
   "outputs": [
    {
     "name": "stdout",
     "output_type": "stream",
     "text": [
      "[1 3 5 7]\n",
      "[2 4 6 8] \n",
      "\n",
      "outer by numpy \n",
      " [[ 2  4  6  8]\n",
      " [ 6 12 18 24]\n",
      " [10 20 30 40]\n",
      " [14 28 42 56]] \n",
      "\n",
      "outer by loop\n",
      "[2 4 6 8]\n",
      "[ 6 12 18 24]\n",
      "[10 20 30 40]\n",
      "[14 28 42 56]\n",
      "\n",
      " broadcasted: \n",
      " [[ 2  4  6  8]\n",
      " [ 6 12 18 24]\n",
      " [10 20 30 40]\n",
      " [14 28 42 56]]\n"
     ]
    }
   ],
   "source": [
    "u = np.array([1,3,5,7])\n",
    "v = np.array([2,4,6,8])\n",
    "print (u)\n",
    "print (v, '\\n')\n",
    "\n",
    "# numpy\n",
    "uxv = np.outer(u,v)\n",
    "print ('outer by numpy', '\\n', uxv, '\\n')\n",
    "\n",
    "#loop\n",
    "print ('outer by loop')\n",
    "for i in u:\n",
    "    loop_uxv = i*v\n",
    "    print (loop_uxv)\n",
    "\n",
    "a = np.tile(u,(4,1)).T\n",
    "b = np.tile(v,(4,1))\n",
    "print ('\\n', \"broadcasted:\",'\\n',a*b)"
   ]
  },
  {
   "cell_type": "markdown",
   "metadata": {},
   "source": [
    "**3\\. Create a 10 by 6 matrix of random uniform numbers. Set all rows with any entry less than 0.1 to be zero**\n",
    "\n",
    "Hint: Use the following numpy functions - np.random.random, np.any as well as Boolean indexing and the axis argument."
   ]
  },
  {
   "cell_type": "code",
   "execution_count": 3,
   "metadata": {},
   "outputs": [
    {
     "name": "stdout",
     "output_type": "stream",
     "text": [
      "[[0.59076834 0.73644348 0.79477803 0.92698584 0.37371538 0.44068176]\n",
      " [0.34380321 0.41288981 0.17930886 0.005859   0.63417738 0.24098239]\n",
      " [0.36084326 0.66613776 0.87758964 0.75951044 0.12380002 0.7662408 ]\n",
      " [0.06699415 0.11983001 0.16270198 0.7573008  0.88316647 0.68397631]\n",
      " [0.3116796  0.64087029 0.41899583 0.1563512  0.74958245 0.33865478]\n",
      " [0.38169913 0.83936879 0.09596802 0.17290507 0.77051536 0.19526746]\n",
      " [0.17042499 0.64605396 0.84519127 0.56533759 0.41538149 0.58579358]\n",
      " [0.81604839 0.69027736 0.80270021 0.60089062 0.09422592 0.7495074 ]\n",
      " [0.52645414 0.98167268 0.15906648 0.49125771 0.59869941 0.62673985]\n",
      " [0.64243638 0.44532413 0.94365899 0.23326818 0.52026146 0.23926049]] \n",
      "\n",
      "[[0.59076834 0.73644348 0.79477803 0.92698584 0.37371538 0.44068176]\n",
      " [0.         0.         0.         0.         0.         0.        ]\n",
      " [0.36084326 0.66613776 0.87758964 0.75951044 0.12380002 0.7662408 ]\n",
      " [0.         0.         0.         0.         0.         0.        ]\n",
      " [0.3116796  0.64087029 0.41899583 0.1563512  0.74958245 0.33865478]\n",
      " [0.         0.         0.         0.         0.         0.        ]\n",
      " [0.17042499 0.64605396 0.84519127 0.56533759 0.41538149 0.58579358]\n",
      " [0.         0.         0.         0.         0.         0.        ]\n",
      " [0.52645414 0.98167268 0.15906648 0.49125771 0.59869941 0.62673985]\n",
      " [0.64243638 0.44532413 0.94365899 0.23326818 0.52026146 0.23926049]]\n"
     ]
    }
   ],
   "source": [
    "matrix = np.random.rand(10,6)\n",
    "print (matrix,'\\n')\n",
    "\n",
    "for i in range (len(matrix)):\n",
    "    A = matrix [:,:]\n",
    "    B = matrix [i:i+1, :]\n",
    "    if np.any(B<0.1) == True:\n",
    "        A[i:i+1, :] = [0,0,0,0,0,0]\n",
    "print (A)\n",
    "        \n",
    "\n",
    "#A = matrix[1:2, :]\n",
    "#print (len(matrix))"
   ]
  },
  {
   "cell_type": "markdown",
   "metadata": {},
   "source": [
    "**4\\. Use np.linspace to create an array of 100 numbers between 0 and 2π (includsive).**\n",
    "\n",
    "  * Extract every 10th element using slice notation\n",
    "  * Reverse the array using slice notation\n",
    "  * Extract elements where the absolute difference between the sine and cosine functions evaluated at that element is less than 0.1\n",
    "  * Make a plot showing the sin and cos functions and indicate where they are close"
   ]
  },
  {
   "cell_type": "code",
   "execution_count": 4,
   "metadata": {},
   "outputs": [
    {
     "name": "stdout",
     "output_type": "stream",
     "text": [
      "original list \n",
      " [0.         0.06346652 0.12693304 0.19039955 0.25386607 0.31733259\n",
      " 0.38079911 0.44426563 0.50773215 0.57119866 0.63466518 0.6981317\n",
      " 0.76159822 0.82506474 0.88853126 0.95199777 1.01546429 1.07893081\n",
      " 1.14239733 1.20586385 1.26933037 1.33279688 1.3962634  1.45972992\n",
      " 1.52319644 1.58666296 1.65012947 1.71359599 1.77706251 1.84052903\n",
      " 1.90399555 1.96746207 2.03092858 2.0943951  2.15786162 2.22132814\n",
      " 2.28479466 2.34826118 2.41172769 2.47519421 2.53866073 2.60212725\n",
      " 2.66559377 2.72906028 2.7925268  2.85599332 2.91945984 2.98292636\n",
      " 3.04639288 3.10985939 3.17332591 3.23679243 3.30025895 3.36372547\n",
      " 3.42719199 3.4906585  3.55412502 3.61759154 3.68105806 3.74452458\n",
      " 3.8079911  3.87145761 3.93492413 3.99839065 4.06185717 4.12532369\n",
      " 4.1887902  4.25225672 4.31572324 4.37918976 4.44265628 4.5061228\n",
      " 4.56958931 4.63305583 4.69652235 4.75998887 4.82345539 4.88692191\n",
      " 4.95038842 5.01385494 5.07732146 5.14078798 5.2042545  5.26772102\n",
      " 5.33118753 5.39465405 5.45812057 5.52158709 5.58505361 5.64852012\n",
      " 5.71198664 5.77545316 5.83891968 5.9023862  5.96585272 6.02931923\n",
      " 6.09278575 6.15625227 6.21971879 6.28318531] \n",
      "\n",
      "10th element \n",
      " [0.5711986642890533, 1.2058638468324459, 1.8405290293758385, 2.475194211919231, 3.1098593944626236, 3.744524577006016, 4.3791897595494085, 5.013854942092801, 5.648520124636194, 6.283185307179586] \n",
      "\n",
      "reverse array \n",
      " [6.28318531 6.21971879 6.15625227 6.09278575 6.02931923 5.96585272\n",
      " 5.9023862  5.83891968 5.77545316 5.71198664 5.64852012 5.58505361\n",
      " 5.52158709 5.45812057 5.39465405 5.33118753 5.26772102 5.2042545\n",
      " 5.14078798 5.07732146 5.01385494 4.95038842 4.88692191 4.82345539\n",
      " 4.75998887 4.69652235 4.63305583 4.56958931 4.5061228  4.44265628\n",
      " 4.37918976 4.31572324 4.25225672 4.1887902  4.12532369 4.06185717\n",
      " 3.99839065 3.93492413 3.87145761 3.8079911  3.74452458 3.68105806\n",
      " 3.61759154 3.55412502 3.4906585  3.42719199 3.36372547 3.30025895\n",
      " 3.23679243 3.17332591 3.10985939 3.04639288 2.98292636 2.91945984\n",
      " 2.85599332 2.7925268  2.72906028 2.66559377 2.60212725 2.53866073\n",
      " 2.47519421 2.41172769 2.34826118 2.28479466 2.22132814 2.15786162\n",
      " 2.0943951  2.03092858 1.96746207 1.90399555 1.84052903 1.77706251\n",
      " 1.71359599 1.65012947 1.58666296 1.52319644 1.45972992 1.3962634\n",
      " 1.33279688 1.26933037 1.20586385 1.14239733 1.07893081 1.01546429\n",
      " 0.95199777 0.88853126 0.82506474 0.76159822 0.6981317  0.63466518\n",
      " 0.57119866 0.50773215 0.44426563 0.38079911 0.31733259 0.25386607\n",
      " 0.19039955 0.12693304 0.06346652 0.        ] \n",
      "\n",
      "sin and cos are close for x = pi/4 and x = 5*pi/4, as shown in the plot\n"
     ]
    },
    {
     "data": {
      "image/png": "[encoded data removed]",
      "text/plain": [
       "<Figure size 432x288 with 1 Axes>"
      ]
     },
     "metadata": {
      "needs_background": "light"
     },
     "output_type": "display_data"
    }
   ],
   "source": [
    "list_100 = np.linspace(0, 2*np.pi, 100)\n",
    "print ('original list', '\\n', list_100,'\\n')\n",
    "\n",
    "th_10 = []\n",
    "for i in range (1,11):\n",
    "    a=list_100[i*10-1]\n",
    "    th_10.append(a)\n",
    "print ('10th element', '\\n', th_10,'\\n')\n",
    "\n",
    "list_001 = list_100[::-1]\n",
    "print (\"reverse array\", '\\n', list_001,'\\n')\n",
    "\n",
    "import matplotlib.pyplot as plt\n",
    "\n",
    "%matplotlib inline \n",
    "x = list_100\n",
    "ys = np.sin(x)\n",
    "yc = np.cos(x)\n",
    "plt.plot(x, ys)\n",
    "plt.plot(x, yc)\n",
    "plt.plot(np.pi*0.25,np.sin(np.pi*0.25),'ro') \n",
    "plt.plot(np.pi*1.25,np.cos(np.pi*1.25) ,'ro');\n",
    "print ('sin and cos are close for x = pi/4 and x = 5*pi/4, as shown in the plot')"
   ]
  },
  {
   "cell_type": "markdown",
   "metadata": {},
   "source": [
    "**5\\. Create a matrix that shows the 10 by 10 multiplication table.**\n",
    "\n",
    " * Find the trace of the matrix\n",
    " * Extract the anto-diagonal (this should be ```array([10, 18, 24, 28, 30, 30, 28, 24, 18, 10])```)\n",
    " * Extract the diagnoal offset by 1 upwards (this should be ```array([ 2,  6, 12, 20, 30, 42, 56, 72, 90])```)"
   ]
  },
  {
   "cell_type": "code",
   "execution_count": 5,
   "metadata": {},
   "outputs": [
    {
     "name": "stdout",
     "output_type": "stream",
     "text": [
      "[[  1.   2.   3.   4.   5.   6.   7.   8.   9.  10.]\n",
      " [  2.   4.   6.   8.  10.  12.  14.  16.  18.  20.]\n",
      " [  3.   6.   9.  12.  15.  18.  21.  24.  27.  30.]\n",
      " [  4.   8.  12.  16.  20.  24.  28.  32.  36.  40.]\n",
      " [  5.  10.  15.  20.  25.  30.  35.  40.  45.  50.]\n",
      " [  6.  12.  18.  24.  30.  36.  42.  48.  54.  60.]\n",
      " [  7.  14.  21.  28.  35.  42.  49.  56.  63.  70.]\n",
      " [  8.  16.  24.  32.  40.  48.  56.  64.  72.  80.]\n",
      " [  9.  18.  27.  36.  45.  54.  63.  72.  81.  90.]\n",
      " [ 10.  20.  30.  40.  50.  60.  70.  80.  90. 100.]] \n",
      "\n",
      "trace = 385.0 \n",
      "\n",
      "[10. 18. 24. 28. 30. 30. 28. 24. 18. 10.] \n",
      "\n",
      "[ 2.  6. 12. 20. 30. 42. 56. 72. 90.]\n"
     ]
    }
   ],
   "source": [
    "ten = np.fromfunction(lambda i, j: (i+1)*(j+1), (10,10))\n",
    "print (ten,'\\n')\n",
    "\n",
    "tr = []\n",
    "for i in range (10):\n",
    "    for j in range (10):\n",
    "        if i == j:\n",
    "            tr.append(ten[i][j])\n",
    "\n",
    "print ('trace =', np.sum(tr), '\\n')\n",
    "\n",
    "anto = []\n",
    "for i in range (10):\n",
    "    tra=ten[i,9-i]\n",
    "    anto.append(tra)\n",
    "ANTO = np.array (anto)\n",
    "print (ANTO, '\\n')\n",
    "\n",
    "\n",
    "bnto = []\n",
    "for i in range (9):\n",
    "    tra=ten[i+1,i]\n",
    "    bnto.append(tra)\n",
    "BNTO = np.array (bnto)\n",
    "print (BNTO)"
   ]
  },
  {
   "cell_type": "markdown",
   "metadata": {},
   "source": [
    "**6\\. Use broadcasting to create a grid of distances**\n",
    "\n",
    "Route 66 crosses the following cities in the US: Chicago, Springfield, Saint-Louis, Tulsa, Oklahoma City, Amarillo, Santa Fe, Albuquerque, Flagstaff, Los Angeles\n",
    "The corresponding positions in miles are: 0, 198, 303, 736, 871, 1175, 1475, 1544, 1913, 2448\n",
    "\n",
    "  * Construct a 2D grid of distances among each city along Route 66\n",
    "  * Convert that in km (those savages...)"
   ]
  },
  {
   "cell_type": "code",
   "execution_count": 6,
   "metadata": {},
   "outputs": [
    {
     "name": "stdout",
     "output_type": "stream",
     "text": [
      "Distance in miles \n",
      " [[    0     1     2     3     4     5     6     7     8     9    10]\n",
      " [    1     0   198   303   736   871  1175  1475  1544  1913  2448]\n",
      " [    2  -198     0   105   538   673   977  1277  1346  1715  2250]\n",
      " [    3  -303  -105     0   433   568   872  1172  1241  1610  2145]\n",
      " [    4  -736  -538  -433     0   135   439   739   808  1177  1712]\n",
      " [    5  -871  -673  -568  -135     0   304   604   673  1042  1577]\n",
      " [    6 -1175  -977  -872  -439  -304     0   300   369   738  1273]\n",
      " [    7 -1475 -1277 -1172  -739  -604  -300     0    69   438   973]\n",
      " [    8 -1544 -1346 -1241  -808  -673  -369   -69     0   369   904]\n",
      " [    9 -1913 -1715 -1610 -1177 -1042  -738  -438  -369     0   535]\n",
      " [   10 -2448 -2250 -2145 -1712 -1577 -1273  -973  -904  -535     0]] \n",
      "\n",
      "Distance in kilometer \n",
      " [[    0     1     2     3     4     5     6     7     8     9    10]\n",
      " [    1     0   318   487  1184  1401  1890  2373  2484  3078  3938]\n",
      " [    2  -318     0   168   865  1082  1571  2054  2165  2759  3620]\n",
      " [    3  -487  -168     0   696   913  1403  1885  1996  2590  3451]\n",
      " [    4 -1184  -865  -696     0   217   706  1189  1300  1893  2754]\n",
      " [    5 -1401 -1082  -913  -217     0   489   971  1082  1676  2537]\n",
      " [    6 -1890 -1571 -1403  -706  -489     0   482   593  1187  2048]\n",
      " [    7 -2373 -2054 -1885 -1189  -971  -482     0   111   704  1565]\n",
      " [    8 -2484 -2165 -1996 -1300 -1082  -593  -111     0   593  1454]\n",
      " [    9 -3078 -2759 -2590 -1893 -1676 -1187  -704  -593     0   860]\n",
      " [   10 -3938 -3620 -3451 -2754 -2537 -2048 -1565 -1454  -860     0]]\n"
     ]
    }
   ],
   "source": [
    "ones = np.ones((11,11),dtype=int)\n",
    "\n",
    "city = ['', 'Chicago', 'Springfield', 'Saint-Louis', 'Tulsa', 'Oklahoma City', 'Amarillo', 'Santa Fe', \n",
    "        'Albuquerque', 'Flagstaff', 'Los Angeles']\n",
    "\n",
    "number = [0,1,2,3,4,5,6,7,8,9,10]\n",
    "position = [0, 198, 303, 736, 871, 1175, 1475, 1544, 1913, 2448]\n",
    "\n",
    "\n",
    "for m in range(1, len(city)):\n",
    "    for i in range(1, len(position)+1):\n",
    "        ones [m:,i:] = position[i-1] - position[m-1]\n",
    "\n",
    "ones [0, :] = number\n",
    "ones [:, 0] = number\n",
    "print ('Distance in miles', '\\n', ones, '\\n')\n",
    "\n",
    "ones[1:11,1:11]=ones[1:11,1:11]*1.609\n",
    "\n",
    "print ('Distance in kilometer', '\\n', ones)"
   ]
  },
  {
   "cell_type": "markdown",
   "metadata": {},
   "source": [
    "**7\\. Prime numbers sieve: compute the prime numbers in the 0-N (N=99 to start with) range with a sieve (mask).**\n",
    "  * Constract a shape (100,) boolean array, the mask\n",
    "  * Identify the multiples of each number starting from 2 and set accordingly the corresponding mask element\n",
    "  * Apply the mask to obtain an array of ordered prime numbers\n",
    "  * Check the performances (timeit); how does it scale with N? \n",
    "  \n",
    "**The time to execute the function goes up by an order of magnitude (circa) for every order of magnitude in increase of N**\n",
    "  * Implement the optimization suggested in the [sieve of Eratosthenes](https://en.wikipedia.org/wiki/Sieve_of_Eratosthenes)"
   ]
  },
  {
   "cell_type": "code",
   "execution_count": 298,
   "metadata": {
    "ExecuteTime": {
     "end_time": "2021-10-03T20:58:41.113775Z",
     "start_time": "2021-10-03T20:58:17.523622Z"
    },
    "scrolled": false
   },
   "outputs": [
    {
     "name": "stdout",
     "output_type": "stream",
     "text": [
      "29.3 µs ± 623 ns per loop (mean ± std. dev. of 7 runs, 10000 loops each)\n",
      "137 µs ± 1.8 µs per loop (mean ± std. dev. of 7 runs, 10000 loops each)\n",
      "1.24 ms ± 6.62 µs per loop (mean ± std. dev. of 7 runs, 1000 loops each)\n"
     ]
    },
    {
     "data": {
      "text/plain": [
       "array([ 2,  3,  5,  7, 11, 13, 17, 19, 23, 29, 31, 37, 41, 43, 47, 53, 59,\n",
       "       61, 67, 71, 73, 79, 83, 89, 97])"
      ]
     },
     "execution_count": 298,
     "metadata": {},
     "output_type": "execute_result"
    }
   ],
   "source": [
    "def prim (N):\n",
    "    prime=np.arange(2, N)\n",
    "    i=2\n",
    "    if i <= np.sqrt(N):\n",
    "        while i*i < N:\n",
    "            mask = (prime%i != 0)\n",
    "            mask [:i] = True\n",
    "            prime = prime[mask]\n",
    "            i=i+1\n",
    "            \n",
    "        return (prime)\n",
    "    \n",
    "%timeit prim (100)\n",
    "%timeit prim (1000)\n",
    "%timeit prim (10000)\n",
    "\n",
    "prim(100)"
   ]
  },
  {
   "cell_type": "code",
   "execution_count": 299,
   "metadata": {
    "ExecuteTime": {
     "end_time": "2021-10-03T20:58:59.867685Z",
     "start_time": "2021-10-03T20:58:41.163827Z"
    },
    "scrolled": true
   },
   "outputs": [
    {
     "name": "stdout",
     "output_type": "stream",
     "text": [
      "25.4 µs ± 535 ns per loop (mean ± std. dev. of 7 runs, 10000 loops each)\n",
      "183 µs ± 4.34 µs per loop (mean ± std. dev. of 7 runs, 10000 loops each)\n",
      "2.11 ms ± 87.6 µs per loop (mean ± std. dev. of 7 runs, 100 loops each)\n"
     ]
    },
    {
     "data": {
      "text/plain": [
       "array([ 2,  3,  5,  7, 11, 13, 17, 19, 23, 29, 31, 37, 41, 43, 47, 53, 59,\n",
       "       61, 67, 71, 73, 79, 83, 89, 97])"
      ]
     },
     "execution_count": 299,
     "metadata": {},
     "output_type": "execute_result"
    }
   ],
   "source": [
    "#first try\n",
    "def ERA (N):\n",
    "    prime=np.arange(N)\n",
    "    res =  [False, False] + [True] * int(len(prime)-2)\n",
    "    i=2\n",
    "    while i < np.sqrt(N):        \n",
    "        \n",
    "        for j in range (i*2,len(prime), i):\n",
    "            res [j] = False\n",
    "            \n",
    "        i += 1\n",
    "        \n",
    "        for n,m in enumerate(res [i:]):\n",
    "            if m == True:\n",
    "                i=n+i\n",
    "                break             \n",
    "\n",
    "    return (prime[res])\n",
    "    \n",
    "%timeit ERA (100)\n",
    "%timeit ERA (1000)\n",
    "%timeit ERA (10000)\n",
    "\n",
    "ERA (100)"
   ]
  },
  {
   "cell_type": "code",
   "execution_count": 300,
   "metadata": {
    "ExecuteTime": {
     "end_time": "2021-10-03T20:59:37.159421Z",
     "start_time": "2021-10-03T20:58:59.916981Z"
    }
   },
   "outputs": [
    {
     "name": "stdout",
     "output_type": "stream",
     "text": [
      "16.1 µs ± 758 ns per loop (mean ± std. dev. of 7 runs, 100000 loops each)\n",
      "147 µs ± 10.6 µs per loop (mean ± std. dev. of 7 runs, 10000 loops each)\n",
      "1.52 ms ± 70.8 µs per loop (mean ± std. dev. of 7 runs, 1000 loops each)\n"
     ]
    },
    {
     "data": {
      "text/plain": [
       "array([ 2,  3,  5,  7, 11, 13, 17, 19, 23, 29, 31, 37, 41, 43, 47, 53, 59,\n",
       "       61, 67, 71, 73, 79, 83, 89, 97])"
      ]
     },
     "execution_count": 300,
     "metadata": {},
     "output_type": "execute_result"
    }
   ],
   "source": [
    "#second try\n",
    "def ERA (N):\n",
    "    prime=np.arange(N)\n",
    "    mask = [True] * int(N)\n",
    "    i = 2\n",
    "    while (i*i <= N):\n",
    "        if (mask[i] == True):  \n",
    "            for j in range(i * 2, N, i): \n",
    "                mask[j] = False\n",
    "        i = i+1\n",
    "    mask[0]= False\n",
    "    mask[1]= False\n",
    "    \n",
    "    return (prime[mask])\n",
    "\n",
    "    \n",
    "%timeit ERA (100)\n",
    "%timeit ERA (1000)\n",
    "%timeit ERA (10000)\n",
    "\n",
    "ERA (100)"
   ]
  },
  {
   "cell_type": "markdown",
   "metadata": {},
   "source": [
    "with the increse of one order of N we notice an increse of one order of the time needed. Moreover the optimization given by the sieve of Eratosthenes gives a speed up of a factor 2 (at least for the first 2 iterations)."
   ]
  },
  {
   "cell_type": "markdown",
   "metadata": {},
   "source": [
    "**8\\. Diffusion using random walk**\n",
    "\n",
    "Consider a simple random walk process: at each step in time, a walker jumps right or left (+1 or -1) with equal probability. The goal is to find the typical distance from the origin of a random walker after a given amount of time. \n",
    "To do that, let's simulate many walkers and create a 2D array with each walker as a raw and the actual time evolution as columns\n",
    "\n",
    "  * Take 1000 walkers and let them walk for 200 steps\n",
    "  * Use randint to create a 2D array of size walkers x steps with values -1 or 1\n",
    "  * Build the actual walking distances for each walker (i.e. another 2D array \"summing on each raw\")\n",
    "  * Take the square of that 2D array (elementwise)\n",
    "  * Compute the mean of the squared distances at each step (i.e. the mean along the columns)\n",
    "  * Plot the average distances (sqrt(distance\\*\\*2)) as a function of time (step)\n",
    "  \n",
    "Did you get what you expected?"
   ]
  },
  {
   "cell_type": "code",
   "execution_count": 3,
   "metadata": {
    "scrolled": true
   },
   "outputs": [
    {
     "name": "stdout",
     "output_type": "stream",
     "text": [
      "[[-1.  1. -1. ...  1. -1. -1.]\n",
      " [-1. -1. -1. ... -1.  1. -1.]\n",
      " [ 1. -1.  1. ... -1.  1. -1.]\n",
      " ...\n",
      " [-1. -1.  1. ...  1.  1.  1.]\n",
      " [ 1.  1.  1. ... -1. -1. -1.]\n",
      " [-1.  1.  1. ...  1.  1.  1.]]\n"
     ]
    }
   ],
   "source": [
    "walk = 1000\n",
    "steps = 200\n",
    "#A = np.random.randint(-1, 2, size=(walk, steps))\n",
    "A = 2*(np.random.randint(0,2, size=(walk, steps))-0.5)\n",
    "print (A)"
   ]
  },
  {
   "cell_type": "code",
   "execution_count": 4,
   "metadata": {},
   "outputs": [
    {
     "name": "stdout",
     "output_type": "stream",
     "text": [
      "[[   1.   -6.]\n",
      " [   2.  -26.]\n",
      " [   3.   -2.]\n",
      " ...\n",
      " [ 998.    8.]\n",
      " [ 999.   28.]\n",
      " [1000.    0.]]\n",
      "\n",
      " squared \n",
      " [[   1.   36.]\n",
      " [   2.  676.]\n",
      " [   3.    4.]\n",
      " ...\n",
      " [ 998.   64.]\n",
      " [ 999.  784.]\n",
      " [1000.    0.]]\n",
      "mean 184.9\n",
      "\n",
      " difference with mean and sqrt \n",
      " [[   1.           12.20245877]\n",
      " [   2.           22.16077616]\n",
      " [   3.           13.44990706]\n",
      " ...\n",
      " [ 998.           10.99545361]\n",
      " [ 999.           24.47651936]\n",
      " [1000.           13.59779394]]\n"
     ]
    },
    {
     "data": {
      "image/png": "[encoded data removed]",
      "text/plain": [
       "<Figure size 1080x504 with 1 Axes>"
      ]
     },
     "metadata": {
      "needs_background": "light"
     },
     "output_type": "display_data"
    }
   ],
   "source": [
    "walked_real = np.zeros((walk,2), dtype=float)\n",
    "walked_real[:,0]=np.arange (1,walk+1)\n",
    "for i in range (walk):\n",
    "    a = np.sum(A[i,:])\n",
    "    walked_real [i,1] = a\n",
    "print (walked_real)\n",
    "\n",
    "\n",
    "walked_real[:,1] = walked_real[:,1]**2\n",
    "print ('\\n', 'squared', '\\n', walked_real)\n",
    "\n",
    "mean = np.sum(walked_real[:,1])/len(walked_real[:,1])\n",
    "print ('mean', mean)\n",
    "\n",
    "walked_real[:,1] = np.sqrt(np.abs(walked_real[:,1]-mean))\n",
    "print ('\\n', 'difference with mean and sqrt', '\\n', walked_real)\n",
    "\n",
    "from matplotlib import pyplot as plt\n",
    "%matplotlib inline\n",
    "y = walked_real[:,1]\n",
    "x = walked_real[:,0]\n",
    "\n",
    "plt.figure(figsize=(15,7))\n",
    "plt.plot(x, y);"
   ]
  },
  {
   "cell_type": "markdown",
   "metadata": {},
   "source": [
    "**9\\. Analyze a data file**\n",
    "  * Download the population of hares, lynxes and carrots at the beginning of the last century.\n",
    "    ```python\n",
    "    ! wget https://www.dropbox.com/s/3vigxoqayo389uc/populations.txt\n",
    "    ```\n",
    "\n",
    "  * Check the content by looking within the file\n",
    "  * Load the data (use an appropriate numpy method) into a 2D array\n",
    "  * Create arrays out of the columns, the arrays being (in order): *year*, *hares*, *lynxes*, *carrots* \n",
    "  * Plot the 3 populations over the years\n",
    "  * Compute the main statistical properties of the dataset (mean, std, correlations, etc.)\n",
    "  * Which species has the highest population each year?\n",
    "\n",
    "Do you feel there is some evident correlation here? [Studies](https://www.enr.gov.nt.ca/en/services/lynx/lynx-snowshoe-hare-cycle) tend to believe so.\n",
    "\n",
    "**yes, we can see that for a drop in the hare population, follows a drop in the lynx population.**"
   ]
  },
  {
   "cell_type": "code",
   "execution_count": 1,
   "metadata": {},
   "outputs": [
    {
     "name": "stdout",
     "output_type": "stream",
     "text": [
      "[['year' 'hares' 'lynxes' 'carrots']\n",
      " [1900.0 30000.0 4000.0 48300.0]\n",
      " [1901.0 47200.0 6100.0 48200.0]\n",
      " [1902.0 70200.0 9800.0 41500.0]\n",
      " [1903.0 77400.0 35200.0 38200.0]\n",
      " [1904.0 36300.0 59400.0 40600.0]\n",
      " [1905.0 20600.0 41700.0 39800.0]\n",
      " [1906.0 18100.0 19000.0 38600.0]\n",
      " [1907.0 21400.0 13000.0 42300.0]\n",
      " [1908.0 22000.0 8300.0 44500.0]\n",
      " [1909.0 25400.0 9100.0 42100.0]\n",
      " [1910.0 27100.0 7400.0 46000.0]\n",
      " [1911.0 40300.0 8000.0 46800.0]\n",
      " [1912.0 57000.0 12300.0 43800.0]\n",
      " [1913.0 76600.0 19500.0 40900.0]\n",
      " [1914.0 52300.0 45700.0 39400.0]\n",
      " [1915.0 19500.0 51100.0 39000.0]\n",
      " [1916.0 11200.0 29700.0 36700.0]\n",
      " [1917.0 7600.0 15800.0 41800.0]\n",
      " [1918.0 14600.0 9700.0 43300.0]\n",
      " [1919.0 16200.0 10100.0 41300.0]\n",
      " [1920.0 24700.0 8600.0 47300.0]]\n"
     ]
    },
    {
     "data": {
      "image/png": "[encoded data removed]",
      "text/plain": [
       "<Figure size 432x288 with 1 Axes>"
      ]
     },
     "metadata": {
      "needs_background": "light"
     },
     "output_type": "display_data"
    }
   ],
   "source": [
    "import numpy as np\n",
    "data = np.loadtxt('populations.txt')\n",
    "year, hares, lynxes, carrots = data.T\n",
    "\n",
    "from matplotlib import pyplot as plt\n",
    "%matplotlib inline\n",
    "\n",
    "plt.axes([0.2, 0.1, 0.5, 0.8]) \n",
    "plt.plot(year, hares, year, lynxes, year, carrots) \n",
    "plt.legend(('Hare', 'Lynx', 'Carrot'), loc=(1.05, 0.5)) \n",
    "\n",
    "data1 = np.ones((len(data[:,0])+1, len(data[0,:])), dtype=object)\n",
    "label = ['year', 'hares', 'lynxes', 'carrots']\n",
    "data1[0,:] = label\n",
    "data1[1:,:] = data\n",
    "print (data1)"
   ]
  },
  {
   "cell_type": "code",
   "execution_count": 46,
   "metadata": {},
   "outputs": [
    {
     "name": "stdout",
     "output_type": "stream",
     "text": [
      "mean of Hares 34080.95238095238\n",
      "mean of Lynx 20166.666666666668\n",
      "mean of Carrot 42400.0\n",
      "\n",
      "std of Hares 20897.906458089667\n",
      "std of Lynx 16254.591536908763\n",
      "std of Carrot 3322.5062255844787\n",
      "\n",
      "correlation coeff of Hares vs Lynx \n",
      " [[1.         0.07189206]\n",
      " [0.07189206 1.        ]]\n",
      "correlation coeff of Lynx vs Carrot \n",
      " [[ 1.         -0.68057717]\n",
      " [-0.68057717  1.        ]]\n",
      "correlation coeff of Carrot vs Hares \n",
      " [[ 1.         -0.01660378]\n",
      " [-0.01660378  1.        ]]\n"
     ]
    }
   ],
   "source": [
    "print ('mean of Hares', np.sum(data[:,1])/len(data[:,1]))\n",
    "print ('mean of Lynx', np.sum(data[:,2])/len(data[:,2]))\n",
    "print ('mean of Carrot', np.sum(data[:,3])/len(data[:,3]))\n",
    "print ('')\n",
    "print ('std of Hares', np.std(data[:,1]))\n",
    "print ('std of Lynx', np.std(data[:,2]))\n",
    "print ('std of Carrot', np.std(data[:,3]))\n",
    "print ('')\n",
    "print ('correlation coeff of Hares vs Lynx', '\\n', np.corrcoef(data[:,1],data[:,2]))\n",
    "print ('correlation coeff of Lynx vs Carrot', '\\n', np.corrcoef(data[:,2],data[:,3]))\n",
    "print ('correlation coeff of Carrot vs Hares', '\\n', np.corrcoef(data[:,3],data[:,1]))\n"
   ]
  },
  {
   "cell_type": "code",
   "execution_count": 59,
   "metadata": {},
   "outputs": [
    {
     "name": "stdout",
     "output_type": "stream",
     "text": [
      "Max in year 1900.0 is HARES with 30000.0 units\n",
      "Max in year 1901.0 is HARES with 47200.0 units\n",
      "Max in year 1902.0 is HARES with 70200.0 units\n",
      "Max in year 1903.0 is HARES with 77400.0 units\n",
      "Max in year 1904.0 is LYNX with 59400.0 units\n",
      "Max in year 1905.0 is LYNX with 41700.0 units\n",
      "Max in year 1906.0 is LYNX with 19000.0 units\n",
      "Max in year 1907.0 is HARES with 21400.0 units\n",
      "Max in year 1908.0 is HARES with 22000.0 units\n",
      "Max in year 1909.0 is HARES with 25400.0 units\n",
      "Max in year 1910.0 is HARES with 27100.0 units\n",
      "Max in year 1911.0 is HARES with 40300.0 units\n",
      "Max in year 1912.0 is HARES with 57000.0 units\n",
      "Max in year 1913.0 is HARES with 76600.0 units\n",
      "Max in year 1914.0 is HARES with 52300.0 units\n",
      "Max in year 1915.0 is LYNX with 51100.0 units\n",
      "Max in year 1916.0 is LYNX with 29700.0 units\n",
      "Max in year 1917.0 is LYNX with 15800.0 units\n",
      "Max in year 1918.0 is HARES with 14600.0 units\n",
      "Max in year 1919.0 is HARES with 16200.0 units\n",
      "Max in year 1920.0 is HARES with 24700.0 units\n"
     ]
    }
   ],
   "source": [
    "for i in range(len(data[:,1])):\n",
    "    A = np.amax (data[i,1:3])\n",
    "    if data[i,1:2] == A:\n",
    "        print ('Max in year', data[i,0], 'is HARES with', A, 'units')\n",
    "    if data[i,2:3] == A:\n",
    "        print ('Max in year', data[i,0], 'is LYNX with', A, 'units')"
   ]
  },
  {
   "cell_type": "code",
   "execution_count": null,
   "metadata": {},
   "outputs": [],
   "source": []
  }
 ],
 "metadata": {
  "kernelspec": {
   "display_name": "Python 3",
   "language": "python",
   "name": "python3"
  },
  "language_info": {
   "codemirror_mode": {
    "name": "ipython",
    "version": 3
   },
   "file_extension": ".py",
   "mimetype": "text/x-python",
   "name": "python",
   "nbconvert_exporter": "python",
   "pygments_lexer": "ipython3",
   "version": "3.7.10"
  },
  "toc": {
   "base_numbering": 1,
   "nav_menu": {},
   "number_sections": true,
   "sideBar": true,
   "skip_h1_title": false,
   "title_cell": "Table of Contents",
   "title_sidebar": "Contents",
   "toc_cell": false,
   "toc_position": {},
   "toc_section_display": true,
   "toc_window_display": false
  },
  "varInspector": {
   "cols": {
    "lenName": 16,
    "lenType": 16,
    "lenVar": 40
   },
   "kernels_config": {
    "python": {
     "delete_cmd_postfix": "",
     "delete_cmd_prefix": "del ",
     "library": "var_list.py",
     "varRefreshCmd": "print(var_dic_list())"
    },
    "r": {
     "delete_cmd_postfix": ") ",
     "delete_cmd_prefix": "rm(",
     "library": "var_list.r",
     "varRefreshCmd": "cat(var_dic_list()) "
    }
   },
   "types_to_exclude": [
    "module",
    "function",
    "builtin_function_or_method",
    "instance",
    "_Feature"
   ],
   "window_display": false
  }
 },
 "nbformat": 4,
 "nbformat_minor": 2
}
