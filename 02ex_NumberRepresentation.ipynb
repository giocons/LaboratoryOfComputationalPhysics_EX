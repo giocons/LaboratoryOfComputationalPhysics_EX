{
 "cells": [
  {
   "cell_type": "markdown",
   "metadata": {},
   "source": [
    "**1\\. Write a function that converts number representation (bin<->dec<->hex)**"
   ]
  },
  {
   "cell_type": "code",
   "execution_count": 1,
   "metadata": {
    "ExecuteTime": {
     "end_time": "2021-10-03T14:44:03.029566Z",
     "start_time": "2021-10-03T14:44:03.018593Z"
    }
   },
   "outputs": [],
   "source": [
    "import numpy as np\n",
    "\n",
    "def DEC_to (number,BIN=True, HEX=True):\n",
    "    HEX_num = ['0','1','2','3','4','5','6','7','8','9','a','b','c','d','e','f']\n",
    "\n",
    "    number_hex = number\n",
    "    number_bin = number\n",
    "    \n",
    "    if HEX == True:\n",
    "        hexa = ''   \n",
    "        while number_hex != 0:\n",
    "            c = number_hex//16\n",
    "            d = number_hex%16\n",
    "            number_hex=c\n",
    "            hexa = hexa + HEX_num[d] \n",
    "\n",
    "        print (f'Hex representation = 0x{hexa[::-1]}')\n",
    "    \n",
    "    if BIN == True:\n",
    "        binary = ''\n",
    "        while number_bin != 0:\n",
    "            if number_bin%2 == 1:\n",
    "                binary = binary + '1'\n",
    "                number_bin = number_bin//2\n",
    "            if number_bin%2 == 0:\n",
    "                binary = binary + '0'\n",
    "                number_bin = number_bin//2\n",
    "\n",
    "        print (f'Bin representation = 0b{binary[::-1]}')        "
   ]
  },
  {
   "cell_type": "code",
   "execution_count": 2,
   "metadata": {
    "ExecuteTime": {
     "end_time": "2021-10-03T14:44:03.859711Z",
     "start_time": "2021-10-03T14:44:03.845751Z"
    },
    "scrolled": true
   },
   "outputs": [],
   "source": [
    "def transform (number):\n",
    "    \n",
    "    HEX_num = ['0','1','2','3','4','5','6','7','8','9','a','b','c','d','e','f']\n",
    "    \n",
    "    if type(number) == int: #dec to hex and bin\n",
    "        DEC_to (number)\n",
    "        \n",
    "    if type(number) == str:\n",
    "        if number[:2] == '0b': #detect binary\n",
    "            number_0b = number[2:]\n",
    "            num = 0\n",
    "            for i in range (len(number_0b)):\n",
    "                if number_0b[i] == '1':\n",
    "                    num = num + 2**(len(number_0b)-i-1)\n",
    "                    \n",
    "            print (f'Dec representation = {num}')\n",
    "            \n",
    "            DEC_to (num, BIN=False)\n",
    "            \n",
    "        if number[:2] == '0x': #detect hex\n",
    "            \n",
    "            number_0x = number[2:]\n",
    "            num = 0\n",
    "            for j,i in enumerate(number_0x):\n",
    "                num = num + HEX_num.index(i)*(16**(len(number_0x)-j-1))\n",
    "            \n",
    "            print (f'Dec representation = {num}')\n",
    "            \n",
    "            DEC_to (num, HEX=False)"
   ]
  },
  {
   "cell_type": "code",
   "execution_count": 3,
   "metadata": {
    "ExecuteTime": {
     "end_time": "2021-10-03T14:44:04.694939Z",
     "start_time": "2021-10-03T14:44:04.685962Z"
    }
   },
   "outputs": [
    {
     "name": "stdout",
     "output_type": "stream",
     "text": [
      "Dec representation = 38756128345\n",
      "Bin representation = 0b0100100000110000010111001011001011001\n"
     ]
    }
   ],
   "source": [
    "transform ('0x9060b9659') #for hex and bin, put the python representation (string with 0b or 0x)"
   ]
  },
  {
   "cell_type": "markdown",
   "metadata": {},
   "source": [
    "**2\\. Write a function that converts a 32 bit word into a single precision floating point (i.e. interprets the various bits as sign, mantissa and exponent)**"
   ]
  },
  {
   "cell_type": "code",
   "execution_count": 104,
   "metadata": {},
   "outputs": [
    {
     "name": "stdout",
     "output_type": "stream",
     "text": [
      "True\n"
     ]
    },
    {
     "data": {
      "text/plain": [
       "7.52316384526264e-37"
      ]
     },
     "execution_count": 104,
     "metadata": {},
     "output_type": "execute_result"
    }
   ],
   "source": [
    "BB = '00000011111000000000000000000000'\n",
    "\n",
    "\n",
    "mantissa = BB[9:]\n",
    "print (BB[6]=='1')\n",
    "2**-120"
   ]
  },
  {
   "cell_type": "code",
   "execution_count": 112,
   "metadata": {},
   "outputs": [
    {
     "name": "stdout",
     "output_type": "stream",
     "text": [
      "1.316553672920962e-36\n",
      "-5.5\n"
     ]
    }
   ],
   "source": [
    "import numpy as np\n",
    "B = '11000000101100000000000000000000'\n",
    "BB = '00000011111000000000000000000000'\n",
    "\n",
    "def fp (x):\n",
    "    if len (x) != 32:\n",
    "        print ('error, put a 32 bit word! the input word insert is', len(x), 'bit long')\n",
    "    else:\n",
    "        if x[0]=='1':\n",
    "            sig = -1\n",
    "        if x[0]=='0':\n",
    "            sig = +1\n",
    "        ex_bin = '0b' + x[1:9]\n",
    "        ex = 2**(int(ex_bin,2)-127)\n",
    "        mantissa = x[9:]\n",
    "        C_val = 1\n",
    "        for i in range (len(mantissa)):\n",
    "            if mantissa[i] != '0':\n",
    "                C_val = C_val + 2**(-i-1)\n",
    "        final = sig*C_val*ex\n",
    "        print (final)\n",
    "        \n",
    "fp (BB)\n",
    "fp (B)"
   ]
  },
  {
   "cell_type": "markdown",
   "metadata": {},
   "source": [
    "**3\\. Write a program to determine the underflow and overflow limits (within a factor of 2) for python on your computer.**\n",
    "\n",
    "**Tips**: define two variables inizialized to 1 and halve/double them enough time to exceed the under/over-flow limits  "
   ]
  },
  {
   "cell_type": "code",
   "execution_count": 5,
   "metadata": {
    "ExecuteTime": {
     "end_time": "2021-10-03T14:44:19.814731Z",
     "start_time": "2021-10-03T14:44:19.789798Z"
    }
   },
   "outputs": [
    {
     "name": "stdout",
     "output_type": "stream",
     "text": [
      "underflow 5e-324\n",
      "overflow 8.98846567431158e+307\n"
     ]
    }
   ],
   "source": [
    "def B ():\n",
    "    under=1\n",
    "    over=1\n",
    "    while under != 0:\n",
    "        under_2 = under\n",
    "        under = under/2\n",
    "    print ('underflow', under_2)\n",
    "    while over < np.inf:\n",
    "        over_2 = over\n",
    "        over = over*2.\n",
    "    print ('overflow', over_2)    \n",
    "    return\n",
    "B()"
   ]
  },
  {
   "cell_type": "markdown",
   "metadata": {},
   "source": [
    "**4\\. Write a program to determine the machine precision**\n",
    "\n",
    "**Tips**: define a new variable by adding a smaller and smaller value (proceeding similarly to prob. 2) to an original variable and check the point where the two are the same "
   ]
  },
  {
   "cell_type": "code",
   "execution_count": 6,
   "metadata": {
    "ExecuteTime": {
     "end_time": "2021-10-03T14:44:23.970675Z",
     "start_time": "2021-10-03T14:44:23.941751Z"
    }
   },
   "outputs": [
    {
     "data": {
      "text/plain": [
       "2.220446049250313e-16"
      ]
     },
     "execution_count": 6,
     "metadata": {},
     "output_type": "execute_result"
    }
   ],
   "source": [
    "def A():\n",
    "    A = 1\n",
    "    while 1+A != 1:\n",
    "        B = A\n",
    "        A = A / 2\n",
    "    return B\n",
    "A ()"
   ]
  },
  {
   "cell_type": "markdown",
   "metadata": {},
   "source": [
    "**5\\. Write a function that takes in input three parameters $a$, $b$ and $c$ and prints out the two solutions to the quadratic equation $ax^2+bx+c=0$ using the standard formula:**\n",
    "$$\n",
    "x=\\frac{-b\\pm\\sqrt{b^2-4ac}}{2a}\n",
    "$$\n",
    "\n",
    "(a) use the program to compute the solution for $a=0.001$, $b=1000$ and $c=0.001$\n",
    "\n",
    "(b) re-express the standard solution formula by multiplying top and bottom by $-b\\mp\\sqrt{b^2-4ac}$ and again find the solution for $a=0.001$, $b=1000$ and $c=0.001$. How does it compare with what previously obtained? Why?\n",
    "\n",
    "(c) write a function that compute the roots of a quadratic equation accurately in all cases"
   ]
  },
  {
   "cell_type": "code",
   "execution_count": 5,
   "metadata": {},
   "outputs": [
    {
     "name": "stdout",
     "output_type": "stream",
     "text": [
      "x1 =  -9.999894245993346e-07\n",
      "x2 =  -999999.999999\n"
     ]
    }
   ],
   "source": [
    "import numpy as np\n",
    "def Afunc (a,b,c):\n",
    "    if a == 0:\n",
    "        print ('error, not valid a=0')\n",
    "    else:\n",
    "        delta = np.sqrt(b**2 - 4*a*c)\n",
    "        x1 = (-b + delta)/(2*a)\n",
    "        x2 = (-b - delta)/(2*a)\n",
    "        print ('x1 = ', x1)\n",
    "        print ('x2 = ', x2)\n",
    "                \n",
    "Afunc (0.001,1000,0.001)"
   ]
  },
  {
   "cell_type": "code",
   "execution_count": 6,
   "metadata": {},
   "outputs": [
    {
     "name": "stdout",
     "output_type": "stream",
     "text": [
      "x1 =  -1000010.5755125057\n",
      "x2 =  -1.000000000001e-06\n"
     ]
    }
   ],
   "source": [
    "def Bfunc (a,b,c):\n",
    "    if a == 0:\n",
    "        print ('error')\n",
    "    else:\n",
    "        delta = np.sqrt(b**2 - 4*a*c)\n",
    "        x1 = (2*c)/((-b)+delta)\n",
    "        x2 = (2*c)/((-b)-delta)\n",
    "        print ('x1 = ', x1)\n",
    "        print ('x2 = ', x2)\n",
    "             \n",
    "Bfunc (0.001,1000,0.001)"
   ]
  },
  {
   "cell_type": "markdown",
   "metadata": {},
   "source": [
    "We observe a slightly different result due to how python handle the number of digits required"
   ]
  },
  {
   "cell_type": "code",
   "execution_count": 7,
   "metadata": {},
   "outputs": [
    {
     "name": "stdout",
     "output_type": "stream",
     "text": [
      "x1 =  -9.999785106639132e-07\n",
      "x2 =  -999989.0859481583\n"
     ]
    }
   ],
   "source": [
    "def Cfunc (a,b,c):\n",
    "    if a == 0:\n",
    "        print ('error')\n",
    "    else:\n",
    "        delta = np.sqrt(b**2 - 4*a*c)\n",
    "        x1 = (b**2 - delta**2)/((2*a)*(-b - delta))\n",
    "        x2 = (b**2 - delta**2)/((2*a)*(-b + delta))\n",
    "        print ('x1 = ', x1)\n",
    "        print ('x2 = ', x2)\n",
    "             \n",
    "Cfunc (0.001,1000,0.001)"
   ]
  },
  {
   "cell_type": "markdown",
   "metadata": {},
   "source": [
    "**6\\. Write a program that implements the function $f(x)=x(x−1)$**\n",
    "\n",
    "(a) Calculate the derivative of the function at the point $x = 1$ using the derivative definition:\n",
    "\n",
    "$$\n",
    "\\frac{{\\rm d}f}{{\\rm d}x} = \\lim_{\\delta\\to0} \\frac{f(x+\\delta)-f(x)}{\\delta}\n",
    "$$\n",
    "\n",
    "with $\\delta = 10^{−2}$. Calculate the true value of the same derivative analytically and compare with the answer your program gives. The two will not agree perfectly. Why not?\n",
    "\n",
    "(b) Repeat the calculation for $\\delta = 10^{−4}, 10^{−6}, 10^{−8}, 10^{−10}, 10^{−12}$ and $10^{−14}$. How does the accuracy scales with $\\delta$?"
   ]
  },
  {
   "cell_type": "code",
   "execution_count": 7,
   "metadata": {},
   "outputs": [
    {
     "name": "stdout",
     "output_type": "stream",
     "text": [
      "0\n",
      "analytical =  1\n",
      "1.010000000000001\n",
      "1.0000999999998899\n",
      "1.0000009999177333\n",
      "1.0000000039225287\n",
      "1.000000082840371\n",
      "1.0000889005833413\n",
      "0.9992007221626509\n"
     ]
    }
   ],
   "source": [
    "def fun (x):\n",
    "    x1 = x*(x-1)\n",
    "    return x1\n",
    "\n",
    "print (fun (1))\n",
    "\n",
    "def der (x):\n",
    "    derx1 = 2*x-1\n",
    "    return derx1\n",
    "\n",
    "print ('analytical = ', der (1))\n",
    "\n",
    "def lim (x, delta):\n",
    "    x2 = (fun(x+delta) - fun(x))/delta\n",
    "    return x2\n",
    "\n",
    "print (lim (1, 10**-2))\n",
    "print (lim (1, 10**-4))\n",
    "print (lim (1, 10**-6))\n",
    "print (lim (1, 10**-8))\n",
    "print (lim (1, 10**-10))\n",
    "print (lim (1, 10**-12))\n",
    "print (lim (1, 10**-14))"
   ]
  },
  {
   "cell_type": "markdown",
   "metadata": {},
   "source": [
    "The procedure is not equal to the analytical one because of the limit imposed by the rapresentation of numbers in python.\n",
    "The accuracy improve up until 1e-8 when we observe a worsening of the accuracy."
   ]
  },
  {
   "cell_type": "markdown",
   "metadata": {},
   "source": [
    "**7\\. Consider the integral of the semicircle of radius 1:**\n",
    "$$\n",
    "I=\\int_{-1}^{1} \\sqrt(1-x^2) {\\rm d}x\n",
    "$$\n",
    "which it's known to be $I=\\frac{\\pi}{2}=1.57079632679...$.\n",
    "Alternatively we can use the Riemann definition of the integral:\n",
    "$$\n",
    "I=\\lim_{N\\to\\infty} \\sum_{k=1}^{N} h y_k \n",
    "$$\n",
    "\n",
    "with $h=2/N$ the width of each of the $N$ slices the domain is divided into and where\n",
    "$y_k$ is the value of the function at the $k-$th slice.\n",
    "\n",
    "(a) Write a programe to compute the integral with $N=100$. How does the result compares to the true value?\n",
    "\n",
    "(b) How much can $N$ be increased if the computation needs to be run in less than a second? What is the gain in running it for 1 minute? \n"
   ]
  },
  {
   "cell_type": "code",
   "execution_count": 7,
   "metadata": {
    "ExecuteTime": {
     "end_time": "2021-10-03T14:46:10.088836Z",
     "start_time": "2021-10-03T14:46:10.077864Z"
    }
   },
   "outputs": [
    {
     "name": "stdout",
     "output_type": "stream",
     "text": [
      "1.2670339376616677\n",
      "80.66188569786856 % correct\n"
     ]
    }
   ],
   "source": [
    "import numpy as np\n",
    "\n",
    "def IN (N):\n",
    "    valori = []\n",
    "    for i,m in zip (2/np.arange(1, N+1), np.sqrt(1-(np.linspace(-1, 1, num = N)**2))):\n",
    "        A = i*m/4\n",
    "        valori.append (A)\n",
    "    B = np.sum(valori)\n",
    "    C = B*100/1.57079632679\n",
    "    print (B)\n",
    "    print (C, '% correct' )\n",
    "\n",
    "IN (100)"
   ]
  },
  {
   "cell_type": "code",
   "execution_count": 8,
   "metadata": {
    "ExecuteTime": {
     "end_time": "2021-10-03T14:46:15.874945Z",
     "start_time": "2021-10-03T14:46:15.005792Z"
    }
   },
   "outputs": [
    {
     "name": "stdout",
     "output_type": "stream",
     "text": [
      "1.5674790853783385\n",
      "99.78881785276131 % correct\n",
      "864 ms ± 0 ns per loop (mean ± std. dev. of 1 run, 1 loop each)\n"
     ]
    }
   ],
   "source": [
    "## N = 1e6 for running in less than a second\n",
    "%timeit -n 1 -r 1 IN (1000000)"
   ]
  },
  {
   "cell_type": "code",
   "execution_count": 10,
   "metadata": {
    "ExecuteTime": {
     "end_time": "2021-10-03T14:48:02.297726Z",
     "start_time": "2021-10-03T14:46:35.557756Z"
    }
   },
   "outputs": [
    {
     "name": "stdout",
     "output_type": "stream",
     "text": [
      "1.5704643202486097\n",
      "99.97886380711948 % correct\n",
      "1min 26s ± 0 ns per loop (mean ± std. dev. of 1 run, 1 loop each)\n"
     ]
    }
   ],
   "source": [
    "## N = 1e8 for running in about one minute\n",
    "%timeit -n 1 -r 1 IN (100000000)"
   ]
  },
  {
   "cell_type": "markdown",
   "metadata": {},
   "source": [
    "The gain for running the programm for a minute is negligible (less than 0.2%)"
   ]
  },
  {
   "cell_type": "code",
   "execution_count": 11,
   "metadata": {
    "ExecuteTime": {
     "end_time": "2021-10-03T14:48:26.749027Z",
     "start_time": "2021-10-03T14:48:26.730077Z"
    }
   },
   "outputs": [
    {
     "data": {
      "text/plain": [
       "0.19004595435816896"
      ]
     },
     "execution_count": 11,
     "metadata": {},
     "output_type": "execute_result"
    }
   ],
   "source": [
    "- 99.78881785276131 + 99.97886380711948 "
   ]
  }
 ],
 "metadata": {
  "kernelspec": {
   "display_name": "Python 3",
   "language": "python",
   "name": "python3"
  },
  "language_info": {
   "codemirror_mode": {
    "name": "ipython",
    "version": 3
   },
   "file_extension": ".py",
   "mimetype": "text/x-python",
   "name": "python",
   "nbconvert_exporter": "python",
   "pygments_lexer": "ipython3",
   "version": "3.7.10"
  },
  "toc": {
   "base_numbering": 1,
   "nav_menu": {},
   "number_sections": true,
   "sideBar": true,
   "skip_h1_title": false,
   "title_cell": "Table of Contents",
   "title_sidebar": "Contents",
   "toc_cell": false,
   "toc_position": {},
   "toc_section_display": true,
   "toc_window_display": false
  },
  "varInspector": {
   "cols": {
    "lenName": 16,
    "lenType": 16,
    "lenVar": 40
   },
   "kernels_config": {
    "python": {
     "delete_cmd_postfix": "",
     "delete_cmd_prefix": "del ",
     "library": "var_list.py",
     "varRefreshCmd": "print(var_dic_list())"
    },
    "r": {
     "delete_cmd_postfix": ") ",
     "delete_cmd_prefix": "rm(",
     "library": "var_list.r",
     "varRefreshCmd": "cat(var_dic_list()) "
    }
   },
   "types_to_exclude": [
    "module",
    "function",
    "builtin_function_or_method",
    "instance",
    "_Feature"
   ],
   "window_display": false
  }
 },
 "nbformat": 4,
 "nbformat_minor": 2
}
